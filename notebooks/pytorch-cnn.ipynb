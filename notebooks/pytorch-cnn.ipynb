{
 "cells": [
  {
   "cell_type": "code",
   "execution_count": 10,
   "id": "706fb7a2-cee1-481d-b5a1-c5ecfaaf0fd3",
   "metadata": {},
   "outputs": [
    {
     "name": "stdout",
     "output_type": "stream",
     "text": [
      "80000 10000 10000 100000\n",
      "(80000, 66, 66) (10000, 66, 66) (10000, 66, 66)\n",
      "(80000, 6) (10000, 6) (10000, 6)\n",
      "(80000, 2) (10000, 2) (10000, 2)\n"
     ]
    }
   ],
   "source": [
    "import numpy as np\n",
    "from matplotlib import pyplot as plt\n",
    "\n",
    "Yvals = np.load(\"../data/6-parameter-maps/y_maps_Cosmogrid_100k.npy\", allow_pickle=True)\n",
    "Xvals = np.load(\"../data/6-parameter-maps/X_maps_Cosmogrid_100k.npy\", allow_pickle=True)\n",
    "\n",
    "num_samples = len(Yvals)\n",
    "train_split, val_split, test_split = int(0.80*num_samples), \\\n",
    "            int(0.10*num_samples), int(0.10*num_samples)\n",
    "    \n",
    "print(train_split, val_split, test_split, train_split+val_split+test_split)\n",
    "\n",
    "train_x, val_x, test_x = np.split(Xvals, [train_split, train_split+val_split])\n",
    "train_y, val_y, test_y = np.split(Yvals, [train_split, train_split+val_split])\n",
    "\n",
    "print(train_x.shape, val_x.shape, test_x.shape)\n",
    "print(train_y.shape, val_y.shape, test_y.shape)\n",
    "\n",
    "output_num = 2\n",
    "\n",
    "train_y, val_y, test_y = train_y[:,:2], val_y[:,:2], test_y[:,:2]\n",
    "print(train_y.shape, val_y.shape, test_y.shape)"
   ]
  },
  {
   "cell_type": "code",
   "execution_count": 16,
   "id": "02b8325a-7392-48c2-8ad4-3dc1bb8ec3b7",
   "metadata": {},
   "outputs": [
    {
     "name": "stdout",
     "output_type": "stream",
     "text": [
      "Model(\n",
      "  (conv1): Conv2d(1, 16, kernel_size=(4, 4), stride=(1, 1))\n",
      "  (relu1): LeakyReLU(negative_slope=0.01)\n",
      "  (maxpool1): MaxPool2d(kernel_size=2, stride=2, padding=0, dilation=1, ceil_mode=False)\n",
      "  (conv2): Conv2d(16, 32, kernel_size=(4, 4), stride=(1, 1))\n",
      "  (relu2): LeakyReLU(negative_slope=0.01)\n",
      "  (maxpool2): MaxPool2d(kernel_size=2, stride=2, padding=0, dilation=1, ceil_mode=False)\n",
      "  (conv3): Conv2d(32, 48, kernel_size=(4, 4), stride=(1, 1))\n",
      "  (relu3): LeakyReLU(negative_slope=0.01)\n",
      "  (maxpool3): MaxPool2d(kernel_size=2, stride=2, padding=0, dilation=1, ceil_mode=False)\n",
      "  (flatten): Flatten(start_dim=1, end_dim=-1)\n",
      "  (fc1): Linear(in_features=1200, out_features=128, bias=True)\n",
      "  (relu4): LeakyReLU(negative_slope=0.01)\n",
      "  (fc2): Linear(in_features=128, out_features=64, bias=True)\n",
      "  (relu5): LeakyReLU(negative_slope=0.01)\n",
      "  (fc3): Linear(in_features=64, out_features=32, bias=True)\n",
      "  (relu6): LeakyReLU(negative_slope=0.01)\n",
      "  (fc4): Linear(in_features=32, out_features=2, bias=True)\n",
      ")\n"
     ]
    }
   ],
   "source": [
    "import torch\n",
    "import torch.nn as nn\n",
    "\n",
    "class Model(nn.Module):\n",
    "    def __init__(self):\n",
    "        super(Model, self).__init__()\n",
    "        \n",
    "        # self.normalization = nn.BatchNorm2d(1)\n",
    "        self.conv1 = nn.Conv2d(1, 16, kernel_size=4)\n",
    "        self.relu1 = nn.LeakyReLU()\n",
    "        self.maxpool1 = nn.MaxPool2d(kernel_size=2)\n",
    "        self.conv2 = nn.Conv2d(16, 32, kernel_size=4)\n",
    "        self.relu2 = nn.LeakyReLU()\n",
    "        self.maxpool2 = nn.MaxPool2d(kernel_size=2)\n",
    "        self.conv3 = nn.Conv2d(32, 48, kernel_size=4)\n",
    "        self.relu3 = nn.LeakyReLU()\n",
    "        self.maxpool3 = nn.MaxPool2d(kernel_size=2)\n",
    "        self.flatten = nn.Flatten()\n",
    "        self.fc1 = nn.Linear(1200, 128)\n",
    "        self.relu4 = nn.LeakyReLU()\n",
    "        self.fc2 = nn.Linear(128, 64)\n",
    "        self.relu5 = nn.LeakyReLU()\n",
    "        self.fc3 = nn.Linear(64, 32)\n",
    "        self.relu6 = nn.LeakyReLU()\n",
    "        self.fc4 = nn.Linear(32, output_num)\n",
    "        \n",
    "    def forward(self, x):\n",
    "        # x = self.normalization(x)\n",
    "        x = self.conv1(x)\n",
    "        x = self.relu1(x)\n",
    "        x = self.maxpool1(x)\n",
    "        x = self.conv2(x)\n",
    "        x = self.relu2(x)\n",
    "        x = self.maxpool2(x)\n",
    "        x = self.conv3(x)\n",
    "        x = self.relu3(x)\n",
    "        x = self.maxpool3(x)\n",
    "        x = self.flatten(x)\n",
    "        x = self.fc1(x)\n",
    "        x = self.relu4(x)\n",
    "        x = self.fc2(x)\n",
    "        x = self.relu5(x)\n",
    "        x = self.fc3(x)\n",
    "        x = self.relu6(x)\n",
    "        x = self.fc4(x)\n",
    "        return x\n",
    "\n",
    "model = Model()\n",
    "\n",
    "# Print the model summary\n",
    "print(model)\n"
   ]
  },
  {
   "cell_type": "code",
   "execution_count": 17,
   "id": "e0405bda-a6b4-4deb-b44d-9fcec4c0fb9d",
   "metadata": {},
   "outputs": [],
   "source": [
    "import torch\n",
    "import torch.nn as nn\n",
    "import torch.optim as optim\n",
    "epochs = 50\n",
    "batch_size = 8\n",
    "\n",
    "# Create DataLoader for batching the data\n",
    "train_dataset = torch.utils.data.TensorDataset(torch.from_numpy(train_x[:, None, :, :]), torch.from_numpy(train_y[:]))\n",
    "train_loader = torch.utils.data.DataLoader(train_dataset, batch_size=batch_size, shuffle=True)\n",
    "val_dataset = torch.utils.data.TensorDataset(torch.from_numpy(val_x[:, None, :, :]), torch.from_numpy(val_y))\n",
    "val_loader = torch.utils.data.DataLoader(val_dataset, batch_size=batch_size)\n",
    "test_dataset = torch.utils.data.TensorDataset(torch.from_numpy(test_x[:, None, :, :]), torch.from_numpy(test_y))\n",
    "test_loader = torch.utils.data.DataLoader(test_dataset, batch_size=batch_size)"
   ]
  },
  {
   "cell_type": "code",
   "execution_count": 18,
   "id": "08b8090d-9dfd-4864-a1b4-3ef2bafb70ed",
   "metadata": {},
   "outputs": [],
   "source": [
    "import tqdm\n",
    "\n",
    "device = torch.device(\"cuda:0\")\n",
    "\n",
    "def train_model(model, \n",
    "                data_loader, \n",
    "                val_loader,\n",
    "                dataset_size, \n",
    "                val_size, \n",
    "                optimizer, \n",
    "                num_epochs):\n",
    "    model.to(device)\n",
    "    criterion = nn.MSELoss()\n",
    "    for epoch in range(num_epochs):\n",
    "        if epoch % 10 == 0:\n",
    "            print('Epoch {}/{}'.format(epoch, num_epochs - 1))\n",
    "            print('-' * 10)\n",
    "        model.train()\n",
    "\n",
    "        running_loss = 0.0\n",
    "        # Iterate over data.\n",
    "        for bi, (inputs, labels) in enumerate(tqdm.tqdm(train_loader)):\n",
    "            inputs = inputs.to(device, dtype=torch.float)\n",
    "            labels = labels.to(device, dtype=torch.float)\n",
    "\n",
    "            optimizer.zero_grad()\n",
    "\n",
    "            with torch.set_grad_enabled(True):\n",
    "                outputs = model(inputs)\n",
    "                loss = criterion(outputs, labels)\n",
    "                loss.backward()\n",
    "                optimizer.step()\n",
    "\n",
    "            running_loss += loss.item() * inputs.size(0)\n",
    "        epoch_loss = running_loss / dataset_size\n",
    "        if epoch % 10 == 0:\n",
    "            print('Loss: {:.4f}'.format(epoch_loss))\n",
    "        \n",
    "        if epoch % 10 == 0:\n",
    "            model.eval()\n",
    "            running_loss = 0.0\n",
    "            # Iterate over data.\n",
    "            for bi, (inputs, labels) in enumerate(tqdm.tqdm(val_loader)):\n",
    "                inputs = inputs.to(device, dtype=torch.float)\n",
    "                labels = labels.to(device, dtype=torch.float)\n",
    "\n",
    "                with torch.no_grad():\n",
    "                    outputs = model(inputs)\n",
    "                    loss = criterion(outputs, labels)\n",
    "                running_loss += loss.item() * inputs.size(0)\n",
    "            epoch_val_loss = running_loss / val_size\n",
    "            print('Val Loss: {:.4f}'.format(epoch_val_loss))\n",
    "    return model"
   ]
  },
  {
   "cell_type": "code",
   "execution_count": 19,
   "id": "8febda3f-f6a2-46a3-9c76-a1f0d56e3e1e",
   "metadata": {},
   "outputs": [],
   "source": [
    "learning_rate = 0.001\n",
    "weight_decay_rate = 0.01\n",
    "\n",
    "optimizer = optim.AdamW(model.parameters(),\n",
    "    lr=learning_rate,\n",
    "    weight_decay=weight_decay_rate)"
   ]
  },
  {
   "cell_type": "code",
   "execution_count": 20,
   "id": "8f7dd104-99e0-4c39-92c6-a0c7abd3dfe1",
   "metadata": {},
   "outputs": [
    {
     "name": "stdout",
     "output_type": "stream",
     "text": [
      "Epoch 0/99\n",
      "----------\n"
     ]
    },
    {
     "name": "stderr",
     "output_type": "stream",
     "text": [
      "100%|██████████| 10000/10000 [00:28<00:00, 348.23it/s]\n"
     ]
    },
    {
     "name": "stdout",
     "output_type": "stream",
     "text": [
      "Loss: 22.4604\n"
     ]
    },
    {
     "name": "stderr",
     "output_type": "stream",
     "text": [
      "100%|██████████| 1250/1250 [00:01<00:00, 1086.41it/s]\n"
     ]
    },
    {
     "name": "stdout",
     "output_type": "stream",
     "text": [
      "Val Loss: 13.6929\n"
     ]
    },
    {
     "name": "stderr",
     "output_type": "stream",
     "text": [
      "100%|██████████| 10000/10000 [00:30<00:00, 331.37it/s]\n",
      "100%|██████████| 10000/10000 [00:29<00:00, 333.46it/s]\n",
      "100%|██████████| 10000/10000 [00:31<00:00, 320.00it/s]\n",
      "100%|██████████| 10000/10000 [00:28<00:00, 352.93it/s]\n",
      "100%|██████████| 10000/10000 [00:26<00:00, 371.34it/s]\n",
      "100%|██████████| 10000/10000 [00:30<00:00, 325.64it/s]\n",
      "100%|██████████| 10000/10000 [00:29<00:00, 337.05it/s]\n",
      "100%|██████████| 10000/10000 [00:28<00:00, 354.21it/s]\n",
      "100%|██████████| 10000/10000 [00:27<00:00, 361.86it/s]\n"
     ]
    },
    {
     "name": "stdout",
     "output_type": "stream",
     "text": [
      "Epoch 10/99\n",
      "----------\n"
     ]
    },
    {
     "name": "stderr",
     "output_type": "stream",
     "text": [
      "100%|██████████| 10000/10000 [00:30<00:00, 326.80it/s]\n"
     ]
    },
    {
     "name": "stdout",
     "output_type": "stream",
     "text": [
      "Loss: 14.5888\n"
     ]
    },
    {
     "name": "stderr",
     "output_type": "stream",
     "text": [
      "100%|██████████| 1250/1250 [00:01<00:00, 922.89it/s] \n"
     ]
    },
    {
     "name": "stdout",
     "output_type": "stream",
     "text": [
      "Val Loss: 13.9647\n"
     ]
    },
    {
     "name": "stderr",
     "output_type": "stream",
     "text": [
      "100%|██████████| 10000/10000 [00:28<00:00, 346.95it/s]\n",
      "100%|██████████| 10000/10000 [00:27<00:00, 361.20it/s]\n",
      "100%|██████████| 10000/10000 [00:26<00:00, 371.44it/s]\n",
      "100%|██████████| 10000/10000 [00:27<00:00, 364.39it/s]\n",
      "100%|██████████| 10000/10000 [00:30<00:00, 327.56it/s]\n",
      "100%|██████████| 10000/10000 [00:31<00:00, 319.34it/s]\n",
      "100%|██████████| 10000/10000 [00:28<00:00, 351.41it/s]\n",
      "100%|██████████| 10000/10000 [00:30<00:00, 331.56it/s]\n",
      "100%|██████████| 10000/10000 [00:31<00:00, 313.12it/s]\n"
     ]
    },
    {
     "name": "stdout",
     "output_type": "stream",
     "text": [
      "Epoch 20/99\n",
      "----------\n"
     ]
    },
    {
     "name": "stderr",
     "output_type": "stream",
     "text": [
      "100%|██████████| 10000/10000 [00:26<00:00, 383.83it/s]\n"
     ]
    },
    {
     "name": "stdout",
     "output_type": "stream",
     "text": [
      "Loss: 14.2686\n"
     ]
    },
    {
     "name": "stderr",
     "output_type": "stream",
     "text": [
      "100%|██████████| 1250/1250 [00:01<00:00, 1035.92it/s]\n"
     ]
    },
    {
     "name": "stdout",
     "output_type": "stream",
     "text": [
      "Val Loss: 13.4609\n"
     ]
    },
    {
     "name": "stderr",
     "output_type": "stream",
     "text": [
      "100%|██████████| 10000/10000 [00:25<00:00, 387.87it/s]\n",
      "100%|██████████| 10000/10000 [00:21<00:00, 474.42it/s]\n",
      "100%|██████████| 10000/10000 [00:26<00:00, 377.13it/s]\n",
      "100%|██████████| 10000/10000 [00:29<00:00, 335.81it/s]\n",
      "100%|██████████| 10000/10000 [00:29<00:00, 339.14it/s]\n",
      "100%|██████████| 10000/10000 [00:32<00:00, 309.20it/s]\n",
      "100%|██████████| 10000/10000 [00:29<00:00, 335.46it/s]\n",
      "100%|██████████| 10000/10000 [00:33<00:00, 302.28it/s]\n",
      "100%|██████████| 10000/10000 [00:23<00:00, 421.98it/s]\n"
     ]
    },
    {
     "name": "stdout",
     "output_type": "stream",
     "text": [
      "Epoch 30/99\n",
      "----------\n"
     ]
    },
    {
     "name": "stderr",
     "output_type": "stream",
     "text": [
      "100%|██████████| 10000/10000 [00:21<00:00, 462.87it/s]\n"
     ]
    },
    {
     "name": "stdout",
     "output_type": "stream",
     "text": [
      "Loss: 14.0882\n"
     ]
    },
    {
     "name": "stderr",
     "output_type": "stream",
     "text": [
      "100%|██████████| 1250/1250 [00:01<00:00, 820.06it/s]\n"
     ]
    },
    {
     "name": "stdout",
     "output_type": "stream",
     "text": [
      "Val Loss: 13.5704\n"
     ]
    },
    {
     "name": "stderr",
     "output_type": "stream",
     "text": [
      "100%|██████████| 10000/10000 [00:28<00:00, 347.86it/s]\n",
      "100%|██████████| 10000/10000 [00:25<00:00, 388.96it/s]\n",
      "100%|██████████| 10000/10000 [00:28<00:00, 353.94it/s]\n",
      "100%|██████████| 10000/10000 [00:30<00:00, 324.37it/s]\n",
      "100%|██████████| 10000/10000 [00:24<00:00, 411.31it/s]\n",
      "100%|██████████| 10000/10000 [00:27<00:00, 358.51it/s]\n",
      "100%|██████████| 10000/10000 [00:28<00:00, 353.17it/s]\n",
      "100%|██████████| 10000/10000 [00:29<00:00, 343.69it/s]\n",
      "100%|██████████| 10000/10000 [00:31<00:00, 317.41it/s]\n"
     ]
    },
    {
     "name": "stdout",
     "output_type": "stream",
     "text": [
      "Epoch 40/99\n",
      "----------\n"
     ]
    },
    {
     "name": "stderr",
     "output_type": "stream",
     "text": [
      "100%|██████████| 10000/10000 [00:32<00:00, 309.33it/s]\n"
     ]
    },
    {
     "name": "stdout",
     "output_type": "stream",
     "text": [
      "Loss: 13.8594\n"
     ]
    },
    {
     "name": "stderr",
     "output_type": "stream",
     "text": [
      "100%|██████████| 1250/1250 [00:01<00:00, 932.86it/s] \n"
     ]
    },
    {
     "name": "stdout",
     "output_type": "stream",
     "text": [
      "Val Loss: 13.8759\n"
     ]
    },
    {
     "name": "stderr",
     "output_type": "stream",
     "text": [
      "100%|██████████| 10000/10000 [00:31<00:00, 321.03it/s]\n",
      "100%|██████████| 10000/10000 [00:30<00:00, 331.39it/s]\n",
      "100%|██████████| 10000/10000 [00:29<00:00, 339.78it/s]\n",
      "100%|██████████| 10000/10000 [00:31<00:00, 315.94it/s]\n",
      "100%|██████████| 10000/10000 [00:29<00:00, 335.71it/s]\n",
      "100%|██████████| 10000/10000 [00:32<00:00, 309.20it/s]\n",
      "100%|██████████| 10000/10000 [00:31<00:00, 314.54it/s]\n",
      "100%|██████████| 10000/10000 [00:31<00:00, 312.70it/s]\n",
      "100%|██████████| 10000/10000 [00:29<00:00, 344.10it/s]\n"
     ]
    },
    {
     "name": "stdout",
     "output_type": "stream",
     "text": [
      "Epoch 50/99\n",
      "----------\n"
     ]
    },
    {
     "name": "stderr",
     "output_type": "stream",
     "text": [
      "100%|██████████| 10000/10000 [00:28<00:00, 346.44it/s]\n"
     ]
    },
    {
     "name": "stdout",
     "output_type": "stream",
     "text": [
      "Loss: 13.5870\n"
     ]
    },
    {
     "name": "stderr",
     "output_type": "stream",
     "text": [
      "100%|██████████| 1250/1250 [00:01<00:00, 1037.36it/s]\n"
     ]
    },
    {
     "name": "stdout",
     "output_type": "stream",
     "text": [
      "Val Loss: 13.9840\n"
     ]
    },
    {
     "name": "stderr",
     "output_type": "stream",
     "text": [
      "100%|██████████| 10000/10000 [00:31<00:00, 320.51it/s]\n",
      "100%|██████████| 10000/10000 [00:31<00:00, 317.18it/s]\n",
      "100%|██████████| 10000/10000 [00:27<00:00, 358.46it/s]\n",
      "100%|██████████| 10000/10000 [00:29<00:00, 338.76it/s]\n",
      "100%|██████████| 10000/10000 [00:29<00:00, 338.51it/s]\n",
      "100%|██████████| 10000/10000 [00:32<00:00, 310.03it/s]\n",
      "100%|██████████| 10000/10000 [00:32<00:00, 308.73it/s]\n",
      "100%|██████████| 10000/10000 [00:32<00:00, 310.27it/s]\n",
      "100%|██████████| 10000/10000 [00:30<00:00, 324.79it/s]\n"
     ]
    },
    {
     "name": "stdout",
     "output_type": "stream",
     "text": [
      "Epoch 60/99\n",
      "----------\n"
     ]
    },
    {
     "name": "stderr",
     "output_type": "stream",
     "text": [
      "100%|██████████| 10000/10000 [00:25<00:00, 391.36it/s]\n"
     ]
    },
    {
     "name": "stdout",
     "output_type": "stream",
     "text": [
      "Loss: 13.2133\n"
     ]
    },
    {
     "name": "stderr",
     "output_type": "stream",
     "text": [
      "100%|██████████| 1250/1250 [00:01<00:00, 1023.47it/s]\n"
     ]
    },
    {
     "name": "stdout",
     "output_type": "stream",
     "text": [
      "Val Loss: 15.3306\n"
     ]
    },
    {
     "name": "stderr",
     "output_type": "stream",
     "text": [
      "100%|██████████| 10000/10000 [00:24<00:00, 407.69it/s]\n",
      "100%|██████████| 10000/10000 [00:20<00:00, 478.90it/s]\n",
      "100%|██████████| 10000/10000 [00:20<00:00, 483.77it/s]\n",
      "100%|██████████| 10000/10000 [00:23<00:00, 424.35it/s]\n",
      "100%|██████████| 10000/10000 [00:27<00:00, 369.36it/s]\n",
      "100%|██████████| 10000/10000 [00:27<00:00, 358.25it/s]\n",
      "100%|██████████| 10000/10000 [00:25<00:00, 386.18it/s]\n",
      "100%|██████████| 10000/10000 [00:28<00:00, 348.32it/s]\n",
      "100%|██████████| 10000/10000 [00:22<00:00, 447.18it/s]\n"
     ]
    },
    {
     "name": "stdout",
     "output_type": "stream",
     "text": [
      "Epoch 70/99\n",
      "----------\n"
     ]
    },
    {
     "name": "stderr",
     "output_type": "stream",
     "text": [
      "100%|██████████| 10000/10000 [00:18<00:00, 550.20it/s]\n"
     ]
    },
    {
     "name": "stdout",
     "output_type": "stream",
     "text": [
      "Loss: 12.8568\n"
     ]
    },
    {
     "name": "stderr",
     "output_type": "stream",
     "text": [
      "100%|██████████| 1250/1250 [00:00<00:00, 1498.49it/s]\n"
     ]
    },
    {
     "name": "stdout",
     "output_type": "stream",
     "text": [
      "Val Loss: 14.2397\n"
     ]
    },
    {
     "name": "stderr",
     "output_type": "stream",
     "text": [
      "100%|██████████| 10000/10000 [00:18<00:00, 551.48it/s]\n",
      "100%|██████████| 10000/10000 [00:18<00:00, 545.32it/s]\n",
      "100%|██████████| 10000/10000 [00:23<00:00, 424.94it/s]\n",
      "100%|██████████| 10000/10000 [00:29<00:00, 342.59it/s]\n",
      "100%|██████████| 10000/10000 [00:29<00:00, 339.55it/s]\n",
      "100%|██████████| 10000/10000 [00:24<00:00, 411.44it/s]\n",
      "100%|██████████| 10000/10000 [00:27<00:00, 358.62it/s]\n",
      "100%|██████████| 10000/10000 [00:24<00:00, 406.49it/s]\n",
      "100%|██████████| 10000/10000 [00:24<00:00, 410.40it/s]\n"
     ]
    },
    {
     "name": "stdout",
     "output_type": "stream",
     "text": [
      "Epoch 80/99\n",
      "----------\n"
     ]
    },
    {
     "name": "stderr",
     "output_type": "stream",
     "text": [
      "100%|██████████| 10000/10000 [00:25<00:00, 389.19it/s]\n"
     ]
    },
    {
     "name": "stdout",
     "output_type": "stream",
     "text": [
      "Loss: 12.5295\n"
     ]
    },
    {
     "name": "stderr",
     "output_type": "stream",
     "text": [
      "100%|██████████| 1250/1250 [00:01<00:00, 1072.96it/s]\n"
     ]
    },
    {
     "name": "stdout",
     "output_type": "stream",
     "text": [
      "Val Loss: 14.3571\n"
     ]
    },
    {
     "name": "stderr",
     "output_type": "stream",
     "text": [
      "100%|██████████| 10000/10000 [00:26<00:00, 376.95it/s]\n",
      "100%|██████████| 10000/10000 [00:27<00:00, 361.79it/s]\n",
      "100%|██████████| 10000/10000 [00:27<00:00, 363.33it/s]\n",
      "100%|██████████| 10000/10000 [00:31<00:00, 313.90it/s]\n",
      "100%|██████████| 10000/10000 [00:31<00:00, 313.93it/s]\n",
      "100%|██████████| 10000/10000 [00:30<00:00, 324.50it/s]\n",
      "100%|██████████| 10000/10000 [00:31<00:00, 314.59it/s]\n",
      "100%|██████████| 10000/10000 [00:31<00:00, 318.26it/s]\n",
      "100%|██████████| 10000/10000 [00:30<00:00, 326.62it/s]\n"
     ]
    },
    {
     "name": "stdout",
     "output_type": "stream",
     "text": [
      "Epoch 90/99\n",
      "----------\n"
     ]
    },
    {
     "name": "stderr",
     "output_type": "stream",
     "text": [
      "100%|██████████| 10000/10000 [00:31<00:00, 320.62it/s]\n"
     ]
    },
    {
     "name": "stdout",
     "output_type": "stream",
     "text": [
      "Loss: 12.3210\n"
     ]
    },
    {
     "name": "stderr",
     "output_type": "stream",
     "text": [
      "100%|██████████| 1250/1250 [00:01<00:00, 1027.05it/s]\n"
     ]
    },
    {
     "name": "stdout",
     "output_type": "stream",
     "text": [
      "Val Loss: 15.2563\n"
     ]
    },
    {
     "name": "stderr",
     "output_type": "stream",
     "text": [
      "100%|██████████| 10000/10000 [00:30<00:00, 328.78it/s]\n",
      "100%|██████████| 10000/10000 [00:30<00:00, 322.86it/s]\n",
      "100%|██████████| 10000/10000 [00:31<00:00, 322.51it/s]\n",
      "100%|██████████| 10000/10000 [00:30<00:00, 330.85it/s]\n",
      "100%|██████████| 10000/10000 [00:31<00:00, 320.60it/s]\n",
      "100%|██████████| 10000/10000 [00:31<00:00, 317.43it/s]\n",
      "100%|██████████| 10000/10000 [00:28<00:00, 350.98it/s]\n",
      "100%|██████████| 10000/10000 [00:29<00:00, 334.44it/s]\n",
      "100%|██████████| 10000/10000 [00:28<00:00, 351.64it/s]\n"
     ]
    }
   ],
   "source": [
    "model = train_model(model, train_loader, val_loader, len(train_y), len(val_y), optimizer, 100)"
   ]
  },
  {
   "cell_type": "code",
   "execution_count": 8,
   "id": "f7151018-b256-42d3-833d-6d5ef5ac3611",
   "metadata": {},
   "outputs": [
    {
     "name": "stderr",
     "output_type": "stream",
     "text": [
      "100%|██████████| 1250/1250 [00:01<00:00, 819.23it/s]\n"
     ]
    },
    {
     "data": {
      "text/plain": [
       "(10000, 2)"
      ]
     },
     "execution_count": 8,
     "metadata": {},
     "output_type": "execute_result"
    }
   ],
   "source": [
    "preds = np.empty((len(val_y), output_num))\n",
    "\n",
    "model.eval()\n",
    "for bi, (inputs, labels) in enumerate(tqdm.tqdm(val_loader)):\n",
    "    inputs = inputs.to(device, dtype=torch.float)\n",
    "    outputs = model(inputs)\n",
    "    preds[bi*8 : (1+bi)*8] = outputs.detach().cpu().numpy()\n",
    "        \n",
    "preds.shape"
   ]
  },
  {
   "cell_type": "code",
   "execution_count": 9,
   "id": "aaefc128-0bf2-44b2-9344-fef2c6a94505",
   "metadata": {},
   "outputs": [
    {
     "data": {
      "image/png": "[encoded data removed]",
      "text/plain": [
       "<Figure size 640x480 with 1 Axes>"
      ]
     },
     "metadata": {},
     "output_type": "display_data"
    },
    {
     "data": {
      "image/png": "[encoded data removed]",
      "text/plain": [
       "<Figure size 640x480 with 1 Axes>"
      ]
     },
     "metadata": {},
     "output_type": "display_data"
    }
   ],
   "source": [
    "plot_x, plot_y =val_x, val_y\n",
    "predictions = preds\n",
    "upp_lims = np.nanmax(plot_y, axis=0)\n",
    "low_lims = np.nanmin(plot_y, axis=0)\n",
    "\n",
    "# Visualize predictions\n",
    "for ind, (low_lim, upp_lim) in enumerate(zip(low_lims, upp_lims)):\n",
    "    p = np.poly1d(np.polyfit(plot_y[:, ind], predictions[:, ind], 1))\n",
    "    plt.figure()\n",
    "    plt.scatter(plot_y[:, ind], predictions[:, ind])\n",
    "    plt.plot([low_lim, upp_lim], [low_lim, upp_lim], color=\"black\")\n",
    "    plt.plot([low_lim, upp_lim], [p(low_lim), p(upp_lim)], color=\"black\", ls=\":\")\n",
    "    plt.xlim([low_lim, upp_lim])\n",
    "    plt.ylim([low_lim, upp_lim])\n",
    "    ax = plt.gca()\n",
    "    ax.set_aspect('equal', adjustable='box')\n",
    "    plt.show()\n",
    "    plt.close()\n"
   ]
  },
  {
   "cell_type": "code",
   "execution_count": null,
   "id": "d5fda1b7-452d-4c3b-adec-2a000dc7c8d4",
   "metadata": {},
   "outputs": [],
   "source": []
  }
 ],
 "metadata": {
  "kernelspec": {
   "display_name": "vit-jupyter",
   "language": "python",
   "name": "vit-jupyter"
  },
  "language_info": {
   "codemirror_mode": {
    "name": "ipython",
    "version": 3
   },
   "file_extension": ".py",
   "mimetype": "text/x-python",
   "name": "python",
   "nbconvert_exporter": "python",
   "pygments_lexer": "ipython3",
   "version": "3.9.16"
  }
 },
 "nbformat": 4,
 "nbformat_minor": 5
}
