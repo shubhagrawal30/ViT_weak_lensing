{
 "cells": [
  {
   "cell_type": "code",
   "execution_count": 1,
   "id": "91b06003-4d1b-4eea-a32c-ff80c4c95520",
   "metadata": {},
   "outputs": [
    {
     "name": "stdout",
     "output_type": "stream",
     "text": [
      "x_train shape: (80000, 66, 66, 1) - y_train shape: (80000, 5)\n",
      "x_test shape: (10000, 66, 66, 1) - y_test shape: (10000, 5)\n"
     ]
    }
   ],
   "source": [
    "import numpy as np\n",
    "\n",
    "Xdata = np.load(\"../data/6-parameter-maps/X_maps_Cosmogrid_100k.npy\", allow_pickle=True)\n",
    "Ydata = np.load(\"../data/6-parameter-maps/y_maps_Cosmogrid_100k.npy\", allow_pickle=True)\n",
    "\n",
    "num_samples = len(Xdata)\n",
    "train_split, val_split, test_split = int(0.80*num_samples), \\\n",
    "            int(0.10*num_samples), int(0.10*num_samples) + 1\n",
    "\n",
    "train_x, val_x, test_x = np.split(Xdata[:, :, :, None], [train_split, train_split+val_split])\n",
    "train_y, val_y, test_y = np.split(Ydata, [train_split, train_split+val_split])\n",
    "\n",
    "output_num = 5\n",
    "\n",
    "train_y, val_y, test_y = train_y[:,:output_num], val_y[:,:output_num], test_y[:,:output_num]\n",
    "\n",
    "print(f\"x_train shape: {train_x.shape} - y_train shape: {train_y.shape}\")\n",
    "print(f\"x_test shape: {test_x.shape} - y_test shape: {test_y.shape}\")"
   ]
  },
  {
   "cell_type": "code",
   "execution_count": 2,
   "id": "aaeb43d8",
   "metadata": {},
   "outputs": [
    {
     "name": "stdout",
     "output_type": "stream",
     "text": [
      "train\n",
      "val\n",
      "test\n"
     ]
    }
   ],
   "source": [
    "# create jsonl files from these train, val, test splits\n",
    "import jsonlines\n",
    "\n",
    "for split_name, x, y in zip(['train', 'val', 'test'], [train_x, val_x, test_x], [train_y, val_y, test_y]):\n",
    "    print(split_name)\n",
    "    with jsonlines.open(f'../data/6-parameter-maps/{split_name}.jsonl', mode='w') as writer:\n",
    "        for i in range(len(x)):\n",
    "            Omega_m, H_0, n_s, sigma_8, w_0 = y[i].tolist()\n",
    "            if list(map(type, [Omega_m, H_0, n_s, sigma_8, w_0])) != [float]*5:\n",
    "                print(Omega_m, H_0, n_s, sigma_8, w_0)\n",
    "            writer.write({'map': x[i].tolist(), \n",
    "                            'Omega_m': float(Omega_m), 'H_0': float(H_0), 'n_s': float(n_s), \n",
    "                            'sigma_8': float(sigma_8), 'w_0': float(w_0)})\n",
    "            # break\n",
    "    # break\n"
   ]
  },
  {
   "cell_type": "markdown",
   "id": "86ea0632-0348-4b53-adb6-4c3e13417aac",
   "metadata": {},
   "source": [
    "# my maps"
   ]
  },
  {
   "cell_type": "code",
   "execution_count": 2,
   "id": "e647d33d-06f2-4dd7-88b2-2494ef65ab4a",
   "metadata": {},
   "outputs": [],
   "source": [
    "import numpy as np\n",
    "import os, sys\n",
    "import pandas as pd"
   ]
  },
  {
   "cell_type": "code",
   "execution_count": 3,
   "id": "7c0c8f6f-5db4-4112-b7f3-ab81e25318a6",
   "metadata": {},
   "outputs": [
    {
     "name": "stdout",
     "output_type": "stream",
     "text": [
      "cosmo_099934.npy\n",
      "(224, 224, 224, 4)\n"
     ]
    }
   ],
   "source": [
    "data_dir = \"../data/20230814_224x224/\"\n",
    "maps = os.listdir(data_dir)\n",
    "for m in maps:\n",
    "    print(m)\n",
    "    d = np.load(os.path.join(data_dir, m))\n",
    "    print(d.shape)\n",
    "    break"
   ]
  },
  {
   "cell_type": "code",
   "execution_count": 4,
   "id": "47275e83-4efe-44ba-b100-3f7287a92a8c",
   "metadata": {},
   "outputs": [
    {
     "data": {
      "text/html": [
       "<div>\n",
       "<style scoped>\n",
       "    .dataframe tbody tr th:only-of-type {\n",
       "        vertical-align: middle;\n",
       "    }\n",
       "\n",
       "    .dataframe tbody tr th {\n",
       "        vertical-align: top;\n",
       "    }\n",
       "\n",
       "    .dataframe thead th {\n",
       "        text-align: right;\n",
       "    }\n",
       "</style>\n",
       "<table border=\"1\" class=\"dataframe\">\n",
       "  <thead>\n",
       "    <tr style=\"text-align: right;\">\n",
       "      <th></th>\n",
       "      <th>sim_type</th>\n",
       "      <th>sim_name</th>\n",
       "      <th>As</th>\n",
       "      <th>bary_Mc</th>\n",
       "      <th>bary_nu</th>\n",
       "      <th>H0</th>\n",
       "      <th>O_cdm</th>\n",
       "      <th>O_nu</th>\n",
       "      <th>Ob</th>\n",
       "      <th>Om</th>\n",
       "      <th>ns</th>\n",
       "      <th>s8</th>\n",
       "      <th>w0</th>\n",
       "    </tr>\n",
       "  </thead>\n",
       "  <tbody>\n",
       "    <tr>\n",
       "      <th>0</th>\n",
       "      <td>fiducial</td>\n",
       "      <td>cosmo_fiducial</td>\n",
       "      <td>3.058901e-09</td>\n",
       "      <td>6.600000e+13</td>\n",
       "      <td>0.000000</td>\n",
       "      <td>67.360000</td>\n",
       "      <td>0.209277</td>\n",
       "      <td>0.001423</td>\n",
       "      <td>0.049300</td>\n",
       "      <td>0.260000</td>\n",
       "      <td>0.964900</td>\n",
       "      <td>0.840000</td>\n",
       "      <td>-1.000000</td>\n",
       "    </tr>\n",
       "    <tr>\n",
       "      <th>1</th>\n",
       "      <td>fiducial</td>\n",
       "      <td>cosmo_delta_H0_m</td>\n",
       "      <td>3.283237e-09</td>\n",
       "      <td>6.600000e+13</td>\n",
       "      <td>0.000000</td>\n",
       "      <td>65.360000</td>\n",
       "      <td>0.209189</td>\n",
       "      <td>0.001511</td>\n",
       "      <td>0.049300</td>\n",
       "      <td>0.260000</td>\n",
       "      <td>0.964900</td>\n",
       "      <td>0.840000</td>\n",
       "      <td>-1.000000</td>\n",
       "    </tr>\n",
       "    <tr>\n",
       "      <th>2</th>\n",
       "      <td>fiducial</td>\n",
       "      <td>cosmo_delta_H0_p</td>\n",
       "      <td>2.857256e-09</td>\n",
       "      <td>6.600000e+13</td>\n",
       "      <td>0.000000</td>\n",
       "      <td>69.360000</td>\n",
       "      <td>0.209358</td>\n",
       "      <td>0.001342</td>\n",
       "      <td>0.049300</td>\n",
       "      <td>0.260000</td>\n",
       "      <td>0.964900</td>\n",
       "      <td>0.840000</td>\n",
       "      <td>-1.000000</td>\n",
       "    </tr>\n",
       "    <tr>\n",
       "      <th>3</th>\n",
       "      <td>fiducial</td>\n",
       "      <td>cosmo_delta_Ob_m</td>\n",
       "      <td>3.014249e-09</td>\n",
       "      <td>6.600000e+13</td>\n",
       "      <td>0.000000</td>\n",
       "      <td>67.360000</td>\n",
       "      <td>0.210277</td>\n",
       "      <td>0.001423</td>\n",
       "      <td>0.048300</td>\n",
       "      <td>0.260000</td>\n",
       "      <td>0.964900</td>\n",
       "      <td>0.840000</td>\n",
       "      <td>-1.000000</td>\n",
       "    </tr>\n",
       "    <tr>\n",
       "      <th>4</th>\n",
       "      <td>fiducial</td>\n",
       "      <td>cosmo_delta_Ob_p</td>\n",
       "      <td>3.104330e-09</td>\n",
       "      <td>6.600000e+13</td>\n",
       "      <td>0.000000</td>\n",
       "      <td>67.360000</td>\n",
       "      <td>0.208277</td>\n",
       "      <td>0.001423</td>\n",
       "      <td>0.050300</td>\n",
       "      <td>0.260000</td>\n",
       "      <td>0.964900</td>\n",
       "      <td>0.840000</td>\n",
       "      <td>-1.000000</td>\n",
       "    </tr>\n",
       "    <tr>\n",
       "      <th>...</th>\n",
       "      <td>...</td>\n",
       "      <td>...</td>\n",
       "      <td>...</td>\n",
       "      <td>...</td>\n",
       "      <td>...</td>\n",
       "      <td>...</td>\n",
       "      <td>...</td>\n",
       "      <td>...</td>\n",
       "      <td>...</td>\n",
       "      <td>...</td>\n",
       "      <td>...</td>\n",
       "      <td>...</td>\n",
       "      <td>...</td>\n",
       "    </tr>\n",
       "    <tr>\n",
       "      <th>2516</th>\n",
       "      <td>grid</td>\n",
       "      <td>cosmo_204707</td>\n",
       "      <td>5.508026e-09</td>\n",
       "      <td>6.800107e+14</td>\n",
       "      <td>1.927475</td>\n",
       "      <td>65.988457</td>\n",
       "      <td>0.171894</td>\n",
       "      <td>0.001482</td>\n",
       "      <td>0.048556</td>\n",
       "      <td>0.221931</td>\n",
       "      <td>0.999455</td>\n",
       "      <td>0.999483</td>\n",
       "      <td>-1.102559</td>\n",
       "    </tr>\n",
       "    <tr>\n",
       "      <th>2517</th>\n",
       "      <td>benchmarks</td>\n",
       "      <td>box_size</td>\n",
       "      <td>3.058901e-09</td>\n",
       "      <td>6.600000e+13</td>\n",
       "      <td>0.000000</td>\n",
       "      <td>67.360000</td>\n",
       "      <td>0.209277</td>\n",
       "      <td>0.001423</td>\n",
       "      <td>0.049300</td>\n",
       "      <td>0.260000</td>\n",
       "      <td>0.964900</td>\n",
       "      <td>0.840000</td>\n",
       "      <td>-1.000000</td>\n",
       "    </tr>\n",
       "    <tr>\n",
       "      <th>2518</th>\n",
       "      <td>benchmarks</td>\n",
       "      <td>fiducial_bench</td>\n",
       "      <td>3.058901e-09</td>\n",
       "      <td>6.600000e+13</td>\n",
       "      <td>0.000000</td>\n",
       "      <td>67.360000</td>\n",
       "      <td>0.209277</td>\n",
       "      <td>0.001423</td>\n",
       "      <td>0.049300</td>\n",
       "      <td>0.260000</td>\n",
       "      <td>0.964900</td>\n",
       "      <td>0.840000</td>\n",
       "      <td>-1.000000</td>\n",
       "    </tr>\n",
       "    <tr>\n",
       "      <th>2519</th>\n",
       "      <td>benchmarks</td>\n",
       "      <td>particle_count</td>\n",
       "      <td>3.058901e-09</td>\n",
       "      <td>6.600000e+13</td>\n",
       "      <td>0.000000</td>\n",
       "      <td>67.360000</td>\n",
       "      <td>0.209277</td>\n",
       "      <td>0.001423</td>\n",
       "      <td>0.049300</td>\n",
       "      <td>0.260000</td>\n",
       "      <td>0.964900</td>\n",
       "      <td>0.840000</td>\n",
       "      <td>-1.000000</td>\n",
       "    </tr>\n",
       "    <tr>\n",
       "      <th>2520</th>\n",
       "      <td>benchmarks</td>\n",
       "      <td>redshift_resolution</td>\n",
       "      <td>3.058901e-09</td>\n",
       "      <td>6.600000e+13</td>\n",
       "      <td>0.000000</td>\n",
       "      <td>67.360000</td>\n",
       "      <td>0.209277</td>\n",
       "      <td>0.001423</td>\n",
       "      <td>0.049300</td>\n",
       "      <td>0.260000</td>\n",
       "      <td>0.964900</td>\n",
       "      <td>0.840000</td>\n",
       "      <td>-1.000000</td>\n",
       "    </tr>\n",
       "  </tbody>\n",
       "</table>\n",
       "<p>2521 rows × 13 columns</p>\n",
       "</div>"
      ],
      "text/plain": [
       "        sim_type             sim_name            As       bary_Mc   bary_nu  \\\n",
       "0       fiducial       cosmo_fiducial  3.058901e-09  6.600000e+13  0.000000   \n",
       "1       fiducial     cosmo_delta_H0_m  3.283237e-09  6.600000e+13  0.000000   \n",
       "2       fiducial     cosmo_delta_H0_p  2.857256e-09  6.600000e+13  0.000000   \n",
       "3       fiducial     cosmo_delta_Ob_m  3.014249e-09  6.600000e+13  0.000000   \n",
       "4       fiducial     cosmo_delta_Ob_p  3.104330e-09  6.600000e+13  0.000000   \n",
       "...          ...                  ...           ...           ...       ...   \n",
       "2516        grid         cosmo_204707  5.508026e-09  6.800107e+14  1.927475   \n",
       "2517  benchmarks             box_size  3.058901e-09  6.600000e+13  0.000000   \n",
       "2518  benchmarks       fiducial_bench  3.058901e-09  6.600000e+13  0.000000   \n",
       "2519  benchmarks       particle_count  3.058901e-09  6.600000e+13  0.000000   \n",
       "2520  benchmarks  redshift_resolution  3.058901e-09  6.600000e+13  0.000000   \n",
       "\n",
       "             H0     O_cdm      O_nu        Ob        Om        ns        s8  \\\n",
       "0     67.360000  0.209277  0.001423  0.049300  0.260000  0.964900  0.840000   \n",
       "1     65.360000  0.209189  0.001511  0.049300  0.260000  0.964900  0.840000   \n",
       "2     69.360000  0.209358  0.001342  0.049300  0.260000  0.964900  0.840000   \n",
       "3     67.360000  0.210277  0.001423  0.048300  0.260000  0.964900  0.840000   \n",
       "4     67.360000  0.208277  0.001423  0.050300  0.260000  0.964900  0.840000   \n",
       "...         ...       ...       ...       ...       ...       ...       ...   \n",
       "2516  65.988457  0.171894  0.001482  0.048556  0.221931  0.999455  0.999483   \n",
       "2517  67.360000  0.209277  0.001423  0.049300  0.260000  0.964900  0.840000   \n",
       "2518  67.360000  0.209277  0.001423  0.049300  0.260000  0.964900  0.840000   \n",
       "2519  67.360000  0.209277  0.001423  0.049300  0.260000  0.964900  0.840000   \n",
       "2520  67.360000  0.209277  0.001423  0.049300  0.260000  0.964900  0.840000   \n",
       "\n",
       "            w0  \n",
       "0    -1.000000  \n",
       "1    -1.000000  \n",
       "2    -1.000000  \n",
       "3    -1.000000  \n",
       "4    -1.000000  \n",
       "...        ...  \n",
       "2516 -1.102559  \n",
       "2517 -1.000000  \n",
       "2518 -1.000000  \n",
       "2519 -1.000000  \n",
       "2520 -1.000000  \n",
       "\n",
       "[2521 rows x 13 columns]"
      ]
     },
     "execution_count": 4,
     "metadata": {},
     "output_type": "execute_result"
    }
   ],
   "source": [
    "df = pd.read_csv(\"../data/parameters.csv\")\n",
    "df"
   ]
  },
  {
   "cell_type": "code",
   "execution_count": 5,
   "id": "207233cc-c569-4ae1-9138-2fe0abc2c041",
   "metadata": {},
   "outputs": [
    {
     "data": {
      "text/html": [
       "<div>\n",
       "<style scoped>\n",
       "    .dataframe tbody tr th:only-of-type {\n",
       "        vertical-align: middle;\n",
       "    }\n",
       "\n",
       "    .dataframe tbody tr th {\n",
       "        vertical-align: top;\n",
       "    }\n",
       "\n",
       "    .dataframe thead th {\n",
       "        text-align: right;\n",
       "    }\n",
       "</style>\n",
       "<table border=\"1\" class=\"dataframe\">\n",
       "  <thead>\n",
       "    <tr style=\"text-align: right;\">\n",
       "      <th></th>\n",
       "      <th>sim_type</th>\n",
       "      <th>sim_name</th>\n",
       "      <th>As</th>\n",
       "      <th>bary_Mc</th>\n",
       "      <th>bary_nu</th>\n",
       "      <th>H0</th>\n",
       "      <th>O_cdm</th>\n",
       "      <th>O_nu</th>\n",
       "      <th>Ob</th>\n",
       "      <th>Om</th>\n",
       "      <th>ns</th>\n",
       "      <th>s8</th>\n",
       "      <th>w0</th>\n",
       "    </tr>\n",
       "  </thead>\n",
       "  <tbody>\n",
       "    <tr>\n",
       "      <th>17</th>\n",
       "      <td>grid</td>\n",
       "      <td>cosmo_000001</td>\n",
       "      <td>2.019919e-09</td>\n",
       "      <td>3.162278e+13</td>\n",
       "      <td>0.0</td>\n",
       "      <td>73.0</td>\n",
       "      <td>0.253789</td>\n",
       "      <td>0.001211</td>\n",
       "      <td>0.045</td>\n",
       "      <td>0.3</td>\n",
       "      <td>0.97</td>\n",
       "      <td>0.9</td>\n",
       "      <td>-1.1665</td>\n",
       "    </tr>\n",
       "  </tbody>\n",
       "</table>\n",
       "</div>"
      ],
      "text/plain": [
       "   sim_type      sim_name            As       bary_Mc  bary_nu    H0  \\\n",
       "17     grid  cosmo_000001  2.019919e-09  3.162278e+13      0.0  73.0   \n",
       "\n",
       "       O_cdm      O_nu     Ob   Om    ns   s8      w0  \n",
       "17  0.253789  0.001211  0.045  0.3  0.97  0.9 -1.1665  "
      ]
     },
     "execution_count": 5,
     "metadata": {},
     "output_type": "execute_result"
    }
   ],
   "source": [
    "df[df[\"sim_name\"] == \"cosmo_000001\"]"
   ]
  },
  {
   "cell_type": "code",
   "execution_count": 7,
   "id": "21d93b43-9214-4d82-8e9d-89e55c2149fa",
   "metadata": {},
   "outputs": [
    {
     "ename": "NameError",
     "evalue": "name 'train_split' is not defined",
     "output_type": "error",
     "traceback": [
      "\u001b[0;31m---------------------------------------------------------------------------\u001b[0m",
      "\u001b[0;31mNameError\u001b[0m                                 Traceback (most recent call last)",
      "Cell \u001b[0;32mIn[7], line 7\u001b[0m\n\u001b[1;32m      4\u001b[0m maps \u001b[38;5;241m=\u001b[39m os\u001b[38;5;241m.\u001b[39mlistdir(data_dir)\n\u001b[1;32m      6\u001b[0m num_saved \u001b[38;5;241m=\u001b[39m \u001b[38;5;241m0\u001b[39m\n\u001b[0;32m----> 7\u001b[0m counter \u001b[38;5;241m=\u001b[39m \u001b[43mtrain_split\u001b[49m\n\u001b[1;32m      8\u001b[0m split_name \u001b[38;5;241m=\u001b[39m \u001b[38;5;124m\"\u001b[39m\u001b[38;5;124mtrain\u001b[39m\u001b[38;5;124m\"\u001b[39m\n\u001b[1;32m      9\u001b[0m writer \u001b[38;5;241m=\u001b[39m \u001b[38;5;28mopen\u001b[39m(\u001b[38;5;124mf\u001b[39m\u001b[38;5;124m'\u001b[39m\u001b[38;5;132;01m{\u001b[39;00mdata_dir\u001b[38;5;132;01m}\u001b[39;00m\u001b[38;5;124m/\u001b[39m\u001b[38;5;132;01m{\u001b[39;00msplit_name\u001b[38;5;132;01m}\u001b[39;00m\u001b[38;5;124m.txt\u001b[39m\u001b[38;5;124m'\u001b[39m, mode\u001b[38;5;241m=\u001b[39m\u001b[38;5;124m'\u001b[39m\u001b[38;5;124mw\u001b[39m\u001b[38;5;124m'\u001b[39m)\n",
      "\u001b[0;31mNameError\u001b[0m: name 'train_split' is not defined"
     ]
    }
   ],
   "source": [
    "import tqdm\n",
    "\n",
    "data_dir = \"../data/20230814_224x224/\"\n",
    "maps = os.listdir(data_dir)\n",
    "\n",
    "num_saved = 0\n",
    "counter = train_split\n",
    "split_name = \"train\"\n",
    "writer = open(f'{data_dir}/{split_name}.txt', mode='w')\n",
    "\n",
    "for m in tqdm.tqdm(maps):\n",
    "    if \"npy\" not in m:\n",
    "        # print(\"skipping\", m)\n",
    "        continue\n",
    "    # if m == \"cosmo_193238.npy\":\n",
    "    #     # print(\"skipping\", m)\n",
    "    #     continue\n",
    "    d = np.load(os.path.join(data_dir, m))\n",
    "    if d.shape[0] == 0:\n",
    "        # print(\"Skipping\", m)\n",
    "        continue\n",
    "    row = df[df[\"sim_name\"] == m[:-4]]\n",
    "    writer.write(m + \"\\n\")\n",
    "    \n",
    "    num_saved += 1\n",
    "    if num_saved == counter:\n",
    "        print(split_name)\n",
    "        num_saved = 0\n",
    "        writer.close()\n",
    "        if split_name == \"train\":\n",
    "            counter = val_split\n",
    "            split_name = \"val\"\n",
    "            writer.close()\n",
    "            writer = open(f'{data_dir}/{split_name}.txt', mode='w')\n",
    "        elif split_name == \"val\":\n",
    "            counter = test_split\n",
    "            split_name = \"test\"\n",
    "            writer.close()\n",
    "            writer = open(f'{}/{split_name}.txt', mode='w')\n",
    "        print(split_name)\n",
    "    # break\n",
    "writer.close()"
   ]
  },
  {
   "cell_type": "code",
   "execution_count": 20,
   "id": "d1f16dc0-e824-476c-8512-ee454bc9a7e3",
   "metadata": {},
   "outputs": [],
   "source": [
    "writer.close()"
   ]
  },
  {
   "cell_type": "code",
   "execution_count": 8,
   "id": "eea7f798-dc4b-49bb-8f18-cf3fb3791c1b",
   "metadata": {},
   "outputs": [
    {
     "name": "stderr",
     "output_type": "stream",
     "text": [
      "100%|██████████| 1/1 [00:00<00:00,  5.99it/s]\n"
     ]
    },
    {
     "data": {
      "text/plain": [
       "((140, 224, 224, 4), (140, 13))"
      ]
     },
     "execution_count": 8,
     "metadata": {},
     "output_type": "execute_result"
    }
   ],
   "source": [
    "import tqdm\n",
    "\n",
    "all_x, all_y = np.empty((0, 224, 224, 4)), np.empty((0, 13))\n",
    "data_dir = \"../data/20230814_224x224/\"\n",
    "maps = os.listdir(data_dir)\n",
    "\n",
    "for m in tqdm.tqdm(maps[:1]):\n",
    "    d = np.load(os.path.join(data_dir, m))\n",
    "    row = df[df[\"sim_name\"] == m[:-4]]\n",
    "    all_x = np.append(all_x, d, axis=0)\n",
    "    all_y = np.append(all_y, np.tile(row, (d.shape[0], 1)), axis=0)\n",
    "    \n",
    "all_x.shape, all_y.shape"
   ]
  },
  {
   "cell_type": "code",
   "execution_count": 10,
   "id": "696611e3-7554-42aa-bdcc-1dba0170fdb3",
   "metadata": {
    "tags": []
   },
   "outputs": [
    {
     "name": "stderr",
     "output_type": "stream",
     "text": [
      " 11%|█         | 277/2504 [01:07<08:47,  4.22it/s]"
     ]
    },
    {
     "name": "stdout",
     "output_type": "stream",
     "text": [
      "train.txt\n"
     ]
    },
    {
     "name": "stderr",
     "output_type": "stream",
     "text": [
      " 55%|█████▍    | 1372/2504 [06:51<06:46,  2.79it/s]"
     ]
    },
    {
     "name": "stdout",
     "output_type": "stream",
     "text": [
      "val.txt\n"
     ]
    },
    {
     "name": "stderr",
     "output_type": "stream",
     "text": [
      " 59%|█████▉    | 1472/2504 [07:36<05:24,  3.18it/s]"
     ]
    },
    {
     "name": "stdout",
     "output_type": "stream",
     "text": [
      "cosmo_193238.npy 160\n"
     ]
    },
    {
     "name": "stderr",
     "output_type": "stream",
     "text": [
      " 72%|███████▏  | 1805/2504 [09:24<03:59,  2.92it/s]"
     ]
    },
    {
     "name": "stdout",
     "output_type": "stream",
     "text": [
      "test.txt\n"
     ]
    },
    {
     "name": "stderr",
     "output_type": "stream",
     "text": [
      " 79%|███████▉  | 1988/2504 [10:25<03:03,  2.81it/s]"
     ]
    },
    {
     "name": "stdout",
     "output_type": "stream",
     "text": [
      "20230814_224x224.py\n"
     ]
    },
    {
     "name": "stderr",
     "output_type": "stream",
     "text": [
      "100%|██████████| 2504/2504 [14:39<00:00,  2.85it/s]\n"
     ]
    },
    {
     "data": {
      "text/plain": [
       "(542912, 2424)"
      ]
     },
     "execution_count": 10,
     "metadata": {},
     "output_type": "execute_result"
    }
   ],
   "source": [
    "import tqdm\n",
    "\n",
    "num_patches = 32\n",
    "all_x, all_y = np.empty((0, 224, 224, 4)), np.empty((0, 13))\n",
    "data_dir = \"../data/20230814_224x224/\"\n",
    "maps = os.listdir(data_dir)\n",
    "\n",
    "num_maps = 0\n",
    "num_cosmo = 0\n",
    "\n",
    "for m in tqdm.tqdm(maps):\n",
    "    if \".npy\" not in m:\n",
    "        print(m)\n",
    "        continue\n",
    "    d = np.load(os.path.join(data_dir, m))\n",
    "    num_maps += d.shape[0]\n",
    "    num_cosmo += (d.shape[0] != 0)\n",
    "    if d.shape[0] not in [0, num_patches*7]:\n",
    "        print(m, d.shape[0])\n",
    "    \n",
    "num_maps, num_cosmo"
   ]
  },
  {
   "cell_type": "code",
   "execution_count": 13,
   "id": "68682e2e-aae2-4149-99ec-2f7fc1c57a5c",
   "metadata": {},
   "outputs": [
    {
     "name": "stdout",
     "output_type": "stream",
     "text": [
      "1939 242 242 2423\n"
     ]
    }
   ],
   "source": [
    "num_maps = 2424\n",
    "train_split, val_split, test_split = int(0.80*num_maps), \\\n",
    "                int(0.10*num_maps), int(0.10*num_maps)\n",
    "\n",
    "print(train_split, val_split, test_split, train_split+val_split+test_split)"
   ]
  },
  {
   "cell_type": "code",
   "execution_count": null,
   "id": "377eaeb2-ed18-43e8-a9ba-4699266392ae",
   "metadata": {},
   "outputs": [
    {
     "name": "stderr",
     "output_type": "stream",
     "text": [
      "  0%|          | 8/2501 [01:12<6:03:22,  8.75s/it]"
     ]
    },
    {
     "name": "stdout",
     "output_type": "stream",
     "text": [
      "Skipping cosmo_202679.npy\n"
     ]
    },
    {
     "name": "stderr",
     "output_type": "stream",
     "text": [
      "  1%|▏         | 32/2501 [04:31<5:59:34,  8.74s/it]"
     ]
    },
    {
     "name": "stdout",
     "output_type": "stream",
     "text": [
      "Skipping cosmo_193523.npy\n"
     ]
    },
    {
     "name": "stderr",
     "output_type": "stream",
     "text": [
      "  5%|▍         | 113/2501 [16:15<5:40:45,  8.56s/it]"
     ]
    },
    {
     "name": "stdout",
     "output_type": "stream",
     "text": [
      "Skipping cosmo_198556.npy\n"
     ]
    },
    {
     "name": "stderr",
     "output_type": "stream",
     "text": [
      "  8%|▊         | 190/2501 [27:41<5:40:13,  8.83s/it]"
     ]
    },
    {
     "name": "stdout",
     "output_type": "stream",
     "text": [
      "Skipping cosmo_199774.npy\n"
     ]
    },
    {
     "name": "stderr",
     "output_type": "stream",
     "text": [
      "  8%|▊         | 194/2501 [28:09<5:11:55,  8.11s/it]"
     ]
    },
    {
     "name": "stdout",
     "output_type": "stream",
     "text": [
      "Skipping cosmo_201699.npy\n"
     ]
    },
    {
     "name": "stderr",
     "output_type": "stream",
     "text": [
      "  9%|▉         | 221/2501 [32:10<5:43:04,  9.03s/it]"
     ]
    },
    {
     "name": "stdout",
     "output_type": "stream",
     "text": [
      "Skipping cosmo_193484.npy\n"
     ]
    },
    {
     "name": "stderr",
     "output_type": "stream",
     "text": [
      " 10%|▉         | 246/2501 [35:51<5:45:38,  9.20s/it]"
     ]
    },
    {
     "name": "stdout",
     "output_type": "stream",
     "text": [
      "Skipping cosmo_199596.npy\n"
     ]
    },
    {
     "name": "stderr",
     "output_type": "stream",
     "text": [
      " 12%|█▏        | 305/2501 [44:56<6:31:16, 10.69s/it]"
     ]
    },
    {
     "name": "stdout",
     "output_type": "stream",
     "text": [
      "Skipping cosmo_203734.npy\n"
     ]
    },
    {
     "name": "stderr",
     "output_type": "stream",
     "text": [
      " 14%|█▍        | 346/2501 [51:49<6:50:25, 11.43s/it]"
     ]
    },
    {
     "name": "stdout",
     "output_type": "stream",
     "text": [
      "Skipping cosmo_193250.npy\n"
     ]
    },
    {
     "name": "stderr",
     "output_type": "stream",
     "text": [
      " 16%|█▋        | 411/2501 [1:02:16<5:25:28,  9.34s/it]"
     ]
    },
    {
     "name": "stdout",
     "output_type": "stream",
     "text": [
      "Skipping cosmo_193367.npy\n"
     ]
    },
    {
     "name": "stderr",
     "output_type": "stream",
     "text": [
      " 17%|█▋        | 420/2501 [1:03:29<5:05:49,  8.82s/it]"
     ]
    },
    {
     "name": "stdout",
     "output_type": "stream",
     "text": [
      "Skipping cosmo_201644.npy\n"
     ]
    },
    {
     "name": "stderr",
     "output_type": "stream",
     "text": [
      " 18%|█▊        | 451/2501 [1:08:06<5:08:16,  9.02s/it]"
     ]
    },
    {
     "name": "stdout",
     "output_type": "stream",
     "text": [
      "Skipping cosmo_204254.npy\n"
     ]
    },
    {
     "name": "stderr",
     "output_type": "stream",
     "text": [
      " 18%|█▊        | 455/2501 [1:08:33<4:26:34,  7.82s/it]"
     ]
    },
    {
     "name": "stdout",
     "output_type": "stream",
     "text": [
      "Skipping cosmo_195988.npy\n"
     ]
    },
    {
     "name": "stderr",
     "output_type": "stream",
     "text": [
      " 19%|█▉        | 471/2501 [1:10:48<5:05:19,  9.02s/it]"
     ]
    },
    {
     "name": "stdout",
     "output_type": "stream",
     "text": [
      "Skipping cosmo_195526.npy\n"
     ]
    },
    {
     "name": "stderr",
     "output_type": "stream",
     "text": [
      " 19%|█▉        | 479/2501 [1:12:01<5:30:01,  9.79s/it]"
     ]
    },
    {
     "name": "stdout",
     "output_type": "stream",
     "text": [
      "Skipping cosmo_198166.npy\n"
     ]
    },
    {
     "name": "stderr",
     "output_type": "stream",
     "text": [
      " 19%|█▉        | 487/2501 [1:13:02<4:50:00,  8.64s/it]"
     ]
    },
    {
     "name": "stdout",
     "output_type": "stream",
     "text": [
      "Skipping cosmo_196676.npy\n"
     ]
    },
    {
     "name": "stderr",
     "output_type": "stream",
     "text": [
      " 21%|██        | 514/2501 [1:17:04<5:01:56,  9.12s/it]"
     ]
    },
    {
     "name": "stdout",
     "output_type": "stream",
     "text": [
      "Skipping cosmo_200487.npy\n"
     ]
    },
    {
     "name": "stderr",
     "output_type": "stream",
     "text": [
      " 25%|██▍       | 622/2501 [1:33:49<4:30:23,  8.63s/it]"
     ]
    },
    {
     "name": "stdout",
     "output_type": "stream",
     "text": [
      "Skipping cosmo_204422.npy\n"
     ]
    },
    {
     "name": "stderr",
     "output_type": "stream",
     "text": [
      " 26%|██▌       | 640/2501 [1:36:40<5:13:34, 10.11s/it]"
     ]
    },
    {
     "name": "stdout",
     "output_type": "stream",
     "text": [
      "Skipping cosmo_198215.npy\n"
     ]
    },
    {
     "name": "stderr",
     "output_type": "stream",
     "text": [
      " 26%|██▌       | 644/2501 [1:37:12<4:41:28,  9.09s/it]"
     ]
    },
    {
     "name": "stdout",
     "output_type": "stream",
     "text": [
      "Skipping cosmo_202375.npy\n"
     ]
    },
    {
     "name": "stderr",
     "output_type": "stream",
     "text": [
      " 29%|██▉       | 737/2501 [1:51:57<4:45:56,  9.73s/it]"
     ]
    },
    {
     "name": "stdout",
     "output_type": "stream",
     "text": [
      "Skipping cosmo_202419.npy\n"
     ]
    },
    {
     "name": "stderr",
     "output_type": "stream",
     "text": [
      " 30%|██▉       | 747/2501 [1:53:23<4:35:12,  9.41s/it]"
     ]
    },
    {
     "name": "stdout",
     "output_type": "stream",
     "text": [
      "Skipping cosmo_198631.npy\n",
      "Skipping cosmo_200148.npy\n"
     ]
    },
    {
     "name": "stderr",
     "output_type": "stream",
     "text": [
      " 33%|███▎      | 818/2501 [2:04:43<4:31:35,  9.68s/it]"
     ]
    },
    {
     "name": "stdout",
     "output_type": "stream",
     "text": [
      "Skipping cosmo_194811.npy\n"
     ]
    },
    {
     "name": "stderr",
     "output_type": "stream",
     "text": [
      " 34%|███▍      | 850/2501 [2:09:49<4:28:04,  9.74s/it]"
     ]
    },
    {
     "name": "stdout",
     "output_type": "stream",
     "text": [
      "Skipping cosmo_200387.npy\n"
     ]
    },
    {
     "name": "stderr",
     "output_type": "stream",
     "text": [
      " 35%|███▌      | 879/2501 [2:14:07<4:17:03,  9.51s/it]"
     ]
    },
    {
     "name": "stdout",
     "output_type": "stream",
     "text": [
      "Skipping cosmo_194718.npy\n"
     ]
    },
    {
     "name": "stderr",
     "output_type": "stream",
     "text": [
      " 36%|███▌      | 895/2501 [2:16:26<4:13:10,  9.46s/it]"
     ]
    },
    {
     "name": "stdout",
     "output_type": "stream",
     "text": [
      "Skipping cosmo_199427.npy\n"
     ]
    },
    {
     "name": "stderr",
     "output_type": "stream",
     "text": [
      " 38%|███▊      | 957/2501 [2:26:12<4:04:02,  9.48s/it]"
     ]
    },
    {
     "name": "stdout",
     "output_type": "stream",
     "text": [
      "Skipping cosmo_193271.npy\n"
     ]
    },
    {
     "name": "stderr",
     "output_type": "stream",
     "text": [
      " 40%|████      | 1005/2501 [2:33:39<4:12:08, 10.11s/it]"
     ]
    },
    {
     "name": "stdout",
     "output_type": "stream",
     "text": [
      "Skipping cosmo_201009.npy\n"
     ]
    },
    {
     "name": "stderr",
     "output_type": "stream",
     "text": [
      " 41%|████      | 1025/2501 [2:36:40<3:47:31,  9.25s/it]"
     ]
    },
    {
     "name": "stdout",
     "output_type": "stream",
     "text": [
      "Skipping cosmo_204455.npy\n"
     ]
    },
    {
     "name": "stderr",
     "output_type": "stream",
     "text": [
      " 42%|████▏     | 1039/2501 [2:38:41<3:47:09,  9.32s/it]"
     ]
    },
    {
     "name": "stdout",
     "output_type": "stream",
     "text": [
      "Skipping cosmo_203054.npy\n"
     ]
    },
    {
     "name": "stderr",
     "output_type": "stream",
     "text": [
      " 42%|████▏     | 1057/2501 [2:41:30<3:57:21,  9.86s/it]"
     ]
    },
    {
     "name": "stdout",
     "output_type": "stream",
     "text": [
      "Skipping cosmo_200327.npy\n"
     ]
    },
    {
     "name": "stderr",
     "output_type": "stream",
     "text": [
      " 43%|████▎     | 1067/2501 [2:43:00<3:55:07,  9.84s/it]"
     ]
    }
   ],
   "source": [
    "# create jsonl files from these train, val, test splits\n",
    "import jsonlines\n",
    "import tqdm\n",
    "\n",
    "data_dir = \"../data/20230419_224x224/\"\n",
    "maps = os.listdir(data_dir)\n",
    "\n",
    "num_saved = 0\n",
    "counter = train_split\n",
    "split_name = \"train\"\n",
    "writer = jsonlines.open(f'../data/20230419_224x224/{split_name}.jsonl', mode='w')\n",
    "\n",
    "for m in tqdm.tqdm(maps):\n",
    "    if m == \"cosmo_193238.npy\":\n",
    "        print(\"skipping\", m)\n",
    "    d = np.load(os.path.join(data_dir, m))\n",
    "    if d.shape[0] == 0:\n",
    "        print(\"Skipping\", m)\n",
    "    row = df[df[\"sim_name\"] == m[:-4]]\n",
    "    sim_type, sim_name, As, bary_Mc, bary_nu, H0, O_cdm, O_nu, Ob, Om, ns, s8, w0 = row.values[0]\n",
    "    writer.write({'map': d.tolist(), 'sim_type': str(sim_type), 'sim_name': str(sim_name),\n",
    "                  'As': float(As), 'bary_Mc': float(bary_Mc), 'bary_nu': float(bary_nu), 'H0': float(H0), \n",
    "                  'O_cdm': float(O_cdm), 'O_nu': float(O_nu), 'Ob': float(Ob), 'Om': float(Om), \n",
    "                  'ns': float(ns), 's8': float(s8), 'w0': float(w0)\n",
    "                 })\n",
    "    \n",
    "    num_saved += 1\n",
    "    if num_saved == counter:\n",
    "        print(split_name)\n",
    "        num_saved = 0\n",
    "        writer.close()\n",
    "        if split_name == \"train\":\n",
    "            counter = val_split\n",
    "            split_name = \"val\"\n",
    "            writer = jsonlines.open(f'../data/20230419_224x224/{split_name}.jsonl', mode='w')\n",
    "        if split_name == \"val\":\n",
    "            counter = test_split\n",
    "            split_name = \"test\"\n",
    "            writer = jsonlines.open(f'../data/20230419_224x224/{split_name}.jsonl', mode='w')\n",
    "        print(split_name)\n",
    "    # break"
   ]
  },
  {
   "cell_type": "code",
   "execution_count": 13,
   "id": "8e70c799-44ad-4121-bed6-1e382221e156",
   "metadata": {},
   "outputs": [
    {
     "name": "stdout",
     "output_type": "stream",
     "text": [
      "0\n",
      "1\n",
      "2\n",
      "3\n",
      "4\n",
      "5\n",
      "6\n",
      "7\n",
      "8\n",
      "9\n",
      "10\n",
      "11\n",
      "12\n",
      "13\n",
      "14\n",
      "15\n",
      "16\n",
      "17\n",
      "18\n",
      "19\n",
      "20\n",
      "21\n",
      "22\n",
      "23\n",
      "24\n",
      "25\n",
      "26\n",
      "27\n",
      "28\n",
      "29\n",
      "30\n",
      "31\n",
      "32\n",
      "33\n",
      "34\n",
      "35\n",
      "36\n",
      "37\n",
      "38\n",
      "39\n",
      "40\n",
      "41\n",
      "42\n",
      "43\n",
      "44\n",
      "45\n",
      "46\n",
      "47\n",
      "48\n",
      "49\n",
      "50\n",
      "51\n",
      "52\n",
      "53\n",
      "54\n",
      "55\n",
      "56\n",
      "57\n",
      "58\n",
      "59\n",
      "60\n",
      "61\n",
      "62\n",
      "63\n",
      "64\n",
      "65\n",
      "66\n",
      "67\n",
      "68\n",
      "69\n",
      "70\n",
      "71\n",
      "72\n",
      "73\n",
      "74\n",
      "75\n",
      "76\n",
      "77\n",
      "78\n",
      "79\n",
      "80\n",
      "81\n",
      "82\n",
      "83\n",
      "84\n",
      "85\n",
      "86\n",
      "87\n",
      "88\n",
      "89\n",
      "90\n",
      "91\n",
      "92\n",
      "93\n",
      "94\n",
      "95\n",
      "96\n",
      "97\n",
      "98\n",
      "99\n",
      "100\n",
      "101\n",
      "102\n",
      "103\n",
      "104\n",
      "105\n",
      "106\n",
      "107\n",
      "108\n",
      "109\n",
      "110\n",
      "111\n",
      "112\n",
      "113\n",
      "114\n",
      "115\n",
      "116\n",
      "117\n",
      "118\n",
      "119\n",
      "120\n",
      "121\n",
      "122\n",
      "123\n",
      "124\n",
      "125\n",
      "126\n",
      "127\n",
      "128\n",
      "129\n",
      "130\n",
      "131\n",
      "132\n",
      "133\n",
      "134\n",
      "135\n",
      "136\n",
      "137\n",
      "138\n",
      "139\n",
      "140\n",
      "141\n",
      "142\n",
      "143\n",
      "144\n",
      "145\n",
      "146\n",
      "147\n",
      "148\n",
      "149\n",
      "150\n",
      "151\n",
      "152\n",
      "153\n",
      "154\n",
      "155\n",
      "156\n",
      "157\n",
      "158\n",
      "159\n",
      "160\n",
      "161\n",
      "162\n",
      "163\n",
      "164\n",
      "165\n",
      "166\n",
      "167\n",
      "168\n",
      "169\n",
      "170\n",
      "171\n",
      "172\n",
      "173\n",
      "174\n",
      "175\n",
      "176\n",
      "177\n",
      "178\n",
      "179\n",
      "180\n",
      "181\n",
      "182\n",
      "183\n",
      "184\n",
      "185\n",
      "186\n",
      "187\n",
      "188\n",
      "189\n",
      "190\n",
      "191\n",
      "192\n",
      "193\n",
      "194\n",
      "195\n",
      "196\n",
      "197\n",
      "198\n",
      "199\n",
      "200\n",
      "201\n",
      "202\n",
      "203\n",
      "204\n",
      "205\n",
      "206\n",
      "207\n",
      "208\n",
      "209\n",
      "210\n",
      "211\n",
      "212\n",
      "213\n",
      "214\n",
      "215\n",
      "216\n",
      "217\n",
      "218\n"
     ]
    },
    {
     "ename": "KeyboardInterrupt",
     "evalue": "",
     "output_type": "error",
     "traceback": [
      "\u001b[0;31m---------------------------------------------------------------------------\u001b[0m",
      "\u001b[0;31mKeyboardInterrupt\u001b[0m                         Traceback (most recent call last)",
      "Cell \u001b[0;32mIn[13], line 8\u001b[0m\n\u001b[1;32m      6\u001b[0m a \u001b[38;5;241m=\u001b[39m jsonlines\u001b[38;5;241m.\u001b[39mopen(\u001b[38;5;124mf\u001b[39m\u001b[38;5;124m'\u001b[39m\u001b[38;5;124m../data/20230419_224x224/\u001b[39m\u001b[38;5;132;01m{\u001b[39;00msplit_name\u001b[38;5;132;01m}\u001b[39;00m\u001b[38;5;124m.jsonl\u001b[39m\u001b[38;5;124m'\u001b[39m, mode\u001b[38;5;241m=\u001b[39m\u001b[38;5;124m'\u001b[39m\u001b[38;5;124mr\u001b[39m\u001b[38;5;124m'\u001b[39m)\n\u001b[1;32m      7\u001b[0m num \u001b[38;5;241m=\u001b[39m \u001b[38;5;241m0\u001b[39m\n\u001b[0;32m----> 8\u001b[0m \u001b[38;5;28;01mfor\u001b[39;00m line \u001b[38;5;129;01min\u001b[39;00m a:\n\u001b[1;32m      9\u001b[0m     \u001b[38;5;28;01mif\u001b[39;00m num \u001b[38;5;241m%\u001b[39m \u001b[38;5;241m1\u001b[39m \u001b[38;5;241m==\u001b[39m \u001b[38;5;241m0\u001b[39m:\n\u001b[1;32m     10\u001b[0m         \u001b[38;5;28mprint\u001b[39m(num)\n",
      "File \u001b[0;32m/global/cfs/cdirs/des/shubh/.conda/envs/vit/lib/python3.9/site-packages/jsonlines/jsonlines.py:416\u001b[0m, in \u001b[0;36mReader.iter\u001b[0;34m(self, type, allow_none, skip_empty, skip_invalid)\u001b[0m\n\u001b[1;32m    414\u001b[0m \u001b[38;5;28;01mwhile\u001b[39;00m \u001b[38;5;28;01mTrue\u001b[39;00m:\n\u001b[1;32m    415\u001b[0m     \u001b[38;5;28;01mtry\u001b[39;00m:\n\u001b[0;32m--> 416\u001b[0m         \u001b[38;5;28;01myield\u001b[39;00m \u001b[38;5;28;43mself\u001b[39;49m\u001b[38;5;241;43m.\u001b[39;49m\u001b[43mread\u001b[49m\u001b[43m(\u001b[49m\n\u001b[1;32m    417\u001b[0m \u001b[43m            \u001b[49m\u001b[38;5;28;43mtype\u001b[39;49m\u001b[38;5;241;43m=\u001b[39;49m\u001b[38;5;28;43mtype\u001b[39;49m\u001b[43m,\u001b[49m\u001b[43m \u001b[49m\u001b[43mallow_none\u001b[49m\u001b[38;5;241;43m=\u001b[39;49m\u001b[43mallow_none\u001b[49m\u001b[43m,\u001b[49m\u001b[43m \u001b[49m\u001b[43mskip_empty\u001b[49m\u001b[38;5;241;43m=\u001b[39;49m\u001b[43mskip_empty\u001b[49m\n\u001b[1;32m    418\u001b[0m \u001b[43m        \u001b[49m\u001b[43m)\u001b[49m\n\u001b[1;32m    419\u001b[0m     \u001b[38;5;28;01mexcept\u001b[39;00m InvalidLineError:\n\u001b[1;32m    420\u001b[0m         \u001b[38;5;28;01mif\u001b[39;00m \u001b[38;5;129;01mnot\u001b[39;00m skip_invalid:\n",
      "File \u001b[0;32m/global/cfs/cdirs/des/shubh/.conda/envs/vit/lib/python3.9/site-packages/jsonlines/jsonlines.py:308\u001b[0m, in \u001b[0;36mReader.read\u001b[0;34m(self, type, allow_none, skip_empty)\u001b[0m\n\u001b[1;32m    305\u001b[0m     line \u001b[38;5;241m=\u001b[39m line[\u001b[38;5;241m1\u001b[39m:]\n\u001b[1;32m    307\u001b[0m \u001b[38;5;28;01mtry\u001b[39;00m:\n\u001b[0;32m--> 308\u001b[0m     value: JSONValue \u001b[38;5;241m=\u001b[39m \u001b[38;5;28;43mself\u001b[39;49m\u001b[38;5;241;43m.\u001b[39;49m\u001b[43m_loads\u001b[49m\u001b[43m(\u001b[49m\u001b[43mline\u001b[49m\u001b[43m)\u001b[49m\n\u001b[1;32m    309\u001b[0m \u001b[38;5;28;01mexcept\u001b[39;00m \u001b[38;5;167;01mValueError\u001b[39;00m \u001b[38;5;28;01mas\u001b[39;00m orig_exc:\n\u001b[1;32m    310\u001b[0m     exc \u001b[38;5;241m=\u001b[39m InvalidLineError(\n\u001b[1;32m    311\u001b[0m         \u001b[38;5;124mf\u001b[39m\u001b[38;5;124m\"\u001b[39m\u001b[38;5;124mline contains invalid json: \u001b[39m\u001b[38;5;132;01m{\u001b[39;00morig_exc\u001b[38;5;132;01m}\u001b[39;00m\u001b[38;5;124m\"\u001b[39m, line, lineno\n\u001b[1;32m    312\u001b[0m     )\n",
      "File \u001b[0;32m/global/cfs/cdirs/des/shubh/.conda/envs/vit/lib/python3.9/json/__init__.py:346\u001b[0m, in \u001b[0;36mloads\u001b[0;34m(s, cls, object_hook, parse_float, parse_int, parse_constant, object_pairs_hook, **kw)\u001b[0m\n\u001b[1;32m    341\u001b[0m     s \u001b[38;5;241m=\u001b[39m s\u001b[38;5;241m.\u001b[39mdecode(detect_encoding(s), \u001b[38;5;124m'\u001b[39m\u001b[38;5;124msurrogatepass\u001b[39m\u001b[38;5;124m'\u001b[39m)\n\u001b[1;32m    343\u001b[0m \u001b[38;5;28;01mif\u001b[39;00m (\u001b[38;5;28mcls\u001b[39m \u001b[38;5;129;01mis\u001b[39;00m \u001b[38;5;28;01mNone\u001b[39;00m \u001b[38;5;129;01mand\u001b[39;00m object_hook \u001b[38;5;129;01mis\u001b[39;00m \u001b[38;5;28;01mNone\u001b[39;00m \u001b[38;5;129;01mand\u001b[39;00m\n\u001b[1;32m    344\u001b[0m         parse_int \u001b[38;5;129;01mis\u001b[39;00m \u001b[38;5;28;01mNone\u001b[39;00m \u001b[38;5;129;01mand\u001b[39;00m parse_float \u001b[38;5;129;01mis\u001b[39;00m \u001b[38;5;28;01mNone\u001b[39;00m \u001b[38;5;129;01mand\u001b[39;00m\n\u001b[1;32m    345\u001b[0m         parse_constant \u001b[38;5;129;01mis\u001b[39;00m \u001b[38;5;28;01mNone\u001b[39;00m \u001b[38;5;129;01mand\u001b[39;00m object_pairs_hook \u001b[38;5;129;01mis\u001b[39;00m \u001b[38;5;28;01mNone\u001b[39;00m \u001b[38;5;129;01mand\u001b[39;00m \u001b[38;5;129;01mnot\u001b[39;00m kw):\n\u001b[0;32m--> 346\u001b[0m     \u001b[38;5;28;01mreturn\u001b[39;00m \u001b[43m_default_decoder\u001b[49m\u001b[38;5;241;43m.\u001b[39;49m\u001b[43mdecode\u001b[49m\u001b[43m(\u001b[49m\u001b[43ms\u001b[49m\u001b[43m)\u001b[49m\n\u001b[1;32m    347\u001b[0m \u001b[38;5;28;01mif\u001b[39;00m \u001b[38;5;28mcls\u001b[39m \u001b[38;5;129;01mis\u001b[39;00m \u001b[38;5;28;01mNone\u001b[39;00m:\n\u001b[1;32m    348\u001b[0m     \u001b[38;5;28mcls\u001b[39m \u001b[38;5;241m=\u001b[39m JSONDecoder\n",
      "File \u001b[0;32m/global/cfs/cdirs/des/shubh/.conda/envs/vit/lib/python3.9/json/decoder.py:337\u001b[0m, in \u001b[0;36mJSONDecoder.decode\u001b[0;34m(self, s, _w)\u001b[0m\n\u001b[1;32m    332\u001b[0m \u001b[38;5;28;01mdef\u001b[39;00m \u001b[38;5;21mdecode\u001b[39m(\u001b[38;5;28mself\u001b[39m, s, _w\u001b[38;5;241m=\u001b[39mWHITESPACE\u001b[38;5;241m.\u001b[39mmatch):\n\u001b[1;32m    333\u001b[0m \u001b[38;5;250m    \u001b[39m\u001b[38;5;124;03m\"\"\"Return the Python representation of ``s`` (a ``str`` instance\u001b[39;00m\n\u001b[1;32m    334\u001b[0m \u001b[38;5;124;03m    containing a JSON document).\u001b[39;00m\n\u001b[1;32m    335\u001b[0m \n\u001b[1;32m    336\u001b[0m \u001b[38;5;124;03m    \"\"\"\u001b[39;00m\n\u001b[0;32m--> 337\u001b[0m     obj, end \u001b[38;5;241m=\u001b[39m \u001b[38;5;28;43mself\u001b[39;49m\u001b[38;5;241;43m.\u001b[39;49m\u001b[43mraw_decode\u001b[49m\u001b[43m(\u001b[49m\u001b[43ms\u001b[49m\u001b[43m,\u001b[49m\u001b[43m \u001b[49m\u001b[43midx\u001b[49m\u001b[38;5;241;43m=\u001b[39;49m\u001b[43m_w\u001b[49m\u001b[43m(\u001b[49m\u001b[43ms\u001b[49m\u001b[43m,\u001b[49m\u001b[43m \u001b[49m\u001b[38;5;241;43m0\u001b[39;49m\u001b[43m)\u001b[49m\u001b[38;5;241;43m.\u001b[39;49m\u001b[43mend\u001b[49m\u001b[43m(\u001b[49m\u001b[43m)\u001b[49m\u001b[43m)\u001b[49m\n\u001b[1;32m    338\u001b[0m     end \u001b[38;5;241m=\u001b[39m _w(s, end)\u001b[38;5;241m.\u001b[39mend()\n\u001b[1;32m    339\u001b[0m     \u001b[38;5;28;01mif\u001b[39;00m end \u001b[38;5;241m!=\u001b[39m \u001b[38;5;28mlen\u001b[39m(s):\n",
      "File \u001b[0;32m/global/cfs/cdirs/des/shubh/.conda/envs/vit/lib/python3.9/json/decoder.py:353\u001b[0m, in \u001b[0;36mJSONDecoder.raw_decode\u001b[0;34m(self, s, idx)\u001b[0m\n\u001b[1;32m    344\u001b[0m \u001b[38;5;250m\u001b[39m\u001b[38;5;124;03m\"\"\"Decode a JSON document from ``s`` (a ``str`` beginning with\u001b[39;00m\n\u001b[1;32m    345\u001b[0m \u001b[38;5;124;03ma JSON document) and return a 2-tuple of the Python\u001b[39;00m\n\u001b[1;32m    346\u001b[0m \u001b[38;5;124;03mrepresentation and the index in ``s`` where the document ended.\u001b[39;00m\n\u001b[0;32m   (...)\u001b[0m\n\u001b[1;32m    350\u001b[0m \n\u001b[1;32m    351\u001b[0m \u001b[38;5;124;03m\"\"\"\u001b[39;00m\n\u001b[1;32m    352\u001b[0m \u001b[38;5;28;01mtry\u001b[39;00m:\n\u001b[0;32m--> 353\u001b[0m     obj, end \u001b[38;5;241m=\u001b[39m \u001b[38;5;28;43mself\u001b[39;49m\u001b[38;5;241;43m.\u001b[39;49m\u001b[43mscan_once\u001b[49m\u001b[43m(\u001b[49m\u001b[43ms\u001b[49m\u001b[43m,\u001b[49m\u001b[43m \u001b[49m\u001b[43midx\u001b[49m\u001b[43m)\u001b[49m\n\u001b[1;32m    354\u001b[0m \u001b[38;5;28;01mexcept\u001b[39;00m \u001b[38;5;167;01mStopIteration\u001b[39;00m \u001b[38;5;28;01mas\u001b[39;00m err:\n\u001b[1;32m    355\u001b[0m     \u001b[38;5;28;01mraise\u001b[39;00m JSONDecodeError(\u001b[38;5;124m\"\u001b[39m\u001b[38;5;124mExpecting value\u001b[39m\u001b[38;5;124m\"\u001b[39m, s, err\u001b[38;5;241m.\u001b[39mvalue) \u001b[38;5;28;01mfrom\u001b[39;00m \u001b[38;5;28;01mNone\u001b[39;00m\n",
      "\u001b[0;31mKeyboardInterrupt\u001b[0m: "
     ]
    }
   ],
   "source": [
    "import jsonlines\n",
    "import tqdm\n",
    "\n",
    "split_name = \"train\"\n",
    "\n",
    "a = jsonlines.open(f'../data/20230419_224x224/{split_name}.jsonl', mode='r')\n",
    "num = 0\n",
    "for line in a:\n",
    "    if num % 1 == 0:\n",
    "        print(num)\n",
    "    # print(line.keys())\n",
    "    # print(\"here\")\n",
    "    num+=1\n",
    "    # break\n",
    "a.close()"
   ]
  },
  {
   "cell_type": "code",
   "execution_count": 90,
   "id": "7f5cae08-738f-485a-af9f-40a659a16277",
   "metadata": {},
   "outputs": [
    {
     "data": {
      "text/plain": [
       "(70, 224, 224, 4)"
      ]
     },
     "execution_count": 90,
     "metadata": {},
     "output_type": "execute_result"
    }
   ],
   "source": [
    "np.array(line[\"map\"]).shape"
   ]
  },
  {
   "cell_type": "code",
   "execution_count": null,
   "id": "8d310d58-862c-4ac6-8bc4-8e5a69aad072",
   "metadata": {},
   "outputs": [],
   "source": [
    "num"
   ]
  },
  {
   "cell_type": "code",
   "execution_count": null,
   "id": "9c96a0d7-085f-497e-b13c-a56d022769a8",
   "metadata": {},
   "outputs": [],
   "source": []
  }
 ],
 "metadata": {
  "kernelspec": {
   "display_name": "vit-jupyter",
   "language": "python",
   "name": "vit-jupyter"
  },
  "language_info": {
   "codemirror_mode": {
    "name": "ipython",
    "version": 3
   },
   "file_extension": ".py",
   "mimetype": "text/x-python",
   "name": "python",
   "nbconvert_exporter": "python",
   "pygments_lexer": "ipython3",
   "version": "3.9.16"
  }
 },
 "nbformat": 4,
 "nbformat_minor": 5
}
