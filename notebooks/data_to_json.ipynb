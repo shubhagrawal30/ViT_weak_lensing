{
 "cells": [
  {
   "cell_type": "code",
   "execution_count": 1,
   "id": "91b06003-4d1b-4eea-a32c-ff80c4c95520",
   "metadata": {},
   "outputs": [
    {
     "name": "stdout",
     "output_type": "stream",
     "text": [
      "x_train shape: (80000, 66, 66, 1) - y_train shape: (80000, 5)\n",
      "x_test shape: (10000, 66, 66, 1) - y_test shape: (10000, 5)\n"
     ]
    }
   ],
   "source": [
    "import numpy as np\n",
    "\n",
    "Xdata = np.load(\"../data/6-parameter-maps/X_maps_Cosmogrid_100k.npy\", allow_pickle=True)\n",
    "Ydata = np.load(\"../data/6-parameter-maps/y_maps_Cosmogrid_100k.npy\", allow_pickle=True)\n",
    "\n",
    "num_samples = len(Xdata)\n",
    "train_split, val_split, test_split = int(0.80*num_samples), \\\n",
    "            int(0.10*num_samples), int(0.10*num_samples) + 1\n",
    "\n",
    "train_x, val_x, test_x = np.split(Xdata[:, :, :, None], [train_split, train_split+val_split])\n",
    "train_y, val_y, test_y = np.split(Ydata, [train_split, train_split+val_split])\n",
    "\n",
    "output_num = 5\n",
    "\n",
    "train_y, val_y, test_y = train_y[:,:output_num], val_y[:,:output_num], test_y[:,:output_num]\n",
    "\n",
    "print(f\"x_train shape: {train_x.shape} - y_train shape: {train_y.shape}\")\n",
    "print(f\"x_test shape: {test_x.shape} - y_test shape: {test_y.shape}\")"
   ]
  },
  {
   "cell_type": "code",
   "execution_count": 2,
   "id": "aaeb43d8",
   "metadata": {},
   "outputs": [
    {
     "name": "stdout",
     "output_type": "stream",
     "text": [
      "train\n",
      "val\n",
      "test\n"
     ]
    }
   ],
   "source": [
    "# create jsonl files from these train, val, test splits\n",
    "import jsonlines\n",
    "\n",
    "for split_name, x, y in zip(['train', 'val', 'test'], [train_x, val_x, test_x], [train_y, val_y, test_y]):\n",
    "    print(split_name)\n",
    "    with jsonlines.open(f'../data/6-parameter-maps/{split_name}.jsonl', mode='w') as writer:\n",
    "        for i in range(len(x)):\n",
    "            Omega_m, H_0, n_s, sigma_8, w_0 = y[i].tolist()\n",
    "            if list(map(type, [Omega_m, H_0, n_s, sigma_8, w_0])) != [float]*5:\n",
    "                print(Omega_m, H_0, n_s, sigma_8, w_0)\n",
    "            writer.write({'map': x[i].tolist(), \n",
    "                            'Omega_m': float(Omega_m), 'H_0': float(H_0), 'n_s': float(n_s), \n",
    "                            'sigma_8': float(sigma_8), 'w_0': float(w_0)})\n",
    "            # break\n",
    "    # break\n"
   ]
  },
  {
   "cell_type": "code",
   "execution_count": null,
   "id": "643634b1",
   "metadata": {},
   "outputs": [],
   "source": []
  }
 ],
 "metadata": {
  "kernelspec": {
   "display_name": "vit-jupyter",
   "language": "python",
   "name": "vit-jupyter"
  },
  "language_info": {
   "codemirror_mode": {
    "name": "ipython",
    "version": 3
   },
   "file_extension": ".py",
   "mimetype": "text/x-python",
   "name": "python",
   "nbconvert_exporter": "python",
   "pygments_lexer": "ipython3",
   "version": "3.9.16"
  }
 },
 "nbformat": 4,
 "nbformat_minor": 5
}
