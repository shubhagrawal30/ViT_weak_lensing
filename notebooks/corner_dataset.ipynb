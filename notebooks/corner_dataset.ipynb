{
 "cells": [
  {
   "cell_type": "code",
   "execution_count": 63,
   "id": "f216e5f1-c2e2-4993-8c96-0721e6bdf739",
   "metadata": {},
   "outputs": [],
   "source": [
    "import pandas as pd\n",
    "import numpy as np\n",
    "from matplotlib import pyplot as plt\n",
    "import os\n",
    "import matplotlib.patches as mpatches"
   ]
  },
  {
   "cell_type": "code",
   "execution_count": 16,
   "id": "37a55503",
   "metadata": {},
   "outputs": [
    {
     "data": {
      "text/plain": [
       "Index(['sim_type', 'sim_name', 'As', 'bary_Mc', 'bary_nu', 'H0', 'O_cdm',\n",
       "       'O_nu', 'Ob', 'Om', 'ns', 's8', 'w0'],\n",
       "      dtype='object')"
      ]
     },
     "execution_count": 16,
     "metadata": {},
     "output_type": "execute_result"
    }
   ],
   "source": [
    "data_dir = \"../data/20230419_224x224/\"\n",
    "parameters_file = \"../data/parameters.csv\"\n",
    "df = pd.read_csv(parameters_file)\n",
    "df.columns"
   ]
  },
  {
   "cell_type": "code",
   "execution_count": 70,
   "id": "70fb57f9-4cf9-4445-86bd-81054a8bbee7",
   "metadata": {},
   "outputs": [
    {
     "name": "stdout",
     "output_type": "stream",
     "text": [
      "train\n",
      "val\n",
      "test\n"
     ]
    },
    {
     "name": "stderr",
     "output_type": "stream",
     "text": [
      "The PostScript backend does not support transparency; partially transparent artists will be rendered opaque.\n"
     ]
    }
   ],
   "source": [
    "fig, ax = plt.subplots(6, 6, figsize=(15, 15))\n",
    "\n",
    "for i in range(6):\n",
    "    for j in range(i + 1, 6):\n",
    "        fig.delaxes(ax[i, j])\n",
    "\n",
    "labels = [r\"$H_0$\", r\"$\\Omega_{cdm}$\", r\"$\\Omega_{b}$\", r\"$n_s$\", r\"$\\sigma_8$\", r\"$w_0$\"]\n",
    "\n",
    "for split_name, color in zip([\"train\", \"val\", \"test\"], [\"blue\", \"green\", \"red\"]):\n",
    "    values = np.empty((0, 13))\n",
    "    print(split_name)\n",
    "    with open(os.path.join(data_dir, split_name + \".txt\"), \"rb\") as f:\n",
    "        for line in f:\n",
    "            values = np.append(values, (df[df[\"sim_name\"] == line.decode(\"utf-8\").strip()[:-4]].values), axis=0)\n",
    "    # print(values)\n",
    "    indices = list(map(lambda x: x in [\"H0\", \"Ob\", \"w0\", \"s8\", \"ns\", \"O_cdm\"], df.columns))\n",
    "\n",
    "    # Iterate over parameter combinations\n",
    "    for i in range(6):\n",
    "        for j in range(i + 1):\n",
    "            ax[i, j].grid()\n",
    "            if i == j:\n",
    "                # Plot histogram on the diagonal\n",
    "                ax[i, j].hist(values[:, indices][:, i], bins=100, color=color, alpha=0.8, histtype='step')\n",
    "                if i == 5:\n",
    "                    ax[i, j].set_xlabel(labels[i])\n",
    "                else:\n",
    "                    ax[i, j].set_xticklabels([])\n",
    "                    ax[i, j].set_xlabel(labels[i])\n",
    "                    ax[i, j].xaxis.set_label_position(\"top\")\n",
    "                # set y label on the right side\n",
    "                ax[i, j].yaxis.set_label_position(\"right\")\n",
    "                ax[i, j].yaxis.tick_right()\n",
    "                ax[i, j].set_ylabel('counts')\n",
    "            else:\n",
    "                # Scatter plot for parameter combinations\n",
    "                ax[i, j].scatter(values[:, indices][:, j], values[:, indices][:, i], marker=\"x\", alpha = 0.5, s=0.5, color=color)\n",
    "                if i == 5:\n",
    "                    ax[i, j].set_xlabel(labels[j])\n",
    "                else:\n",
    "                    ax[i, j].set_xticklabels([])\n",
    "                if j == 0:\n",
    "                    ax[i, j].set_ylabel(labels[i])\n",
    "                else:\n",
    "                    ax[i, j].set_yticklabels([])\n",
    "\n",
    "            # Remove top and right spines\n",
    "            # ax[i, j].spines['top'].set_visible(False)\n",
    "            # ax[i, j].spines['right'].set_visible(False)\n",
    "\n",
    "plt.subplots_adjust(wspace=0.1, hspace=0.1)\n",
    "\n",
    "plt.legend(handles=[mpatches.Patch(color='blue', label=r'training'), mpatches.Patch(color='green', label=r'validation'),\n",
    "                    mpatches.Patch(color='red', label=r'test')], bbox_to_anchor=(0., 1.0, 1., .0), loc=4)\n",
    "plt.savefig(\"../plots/cosmogrid_corner.pdf\", bbox_inches=\"tight\", dpi=300)\n",
    "plt.savefig(\"../plots/cosmogrid_corner.eps\", bbox_inches=\"tight\", dpi=300)\n",
    "plt.close()"
   ]
  },
  {
   "cell_type": "code",
   "execution_count": null,
   "id": "f512e48d",
   "metadata": {},
   "outputs": [],
   "source": []
  }
 ],
 "metadata": {
  "kernelspec": {
   "display_name": "vit",
   "language": "python",
   "name": "python3"
  },
  "language_info": {
   "codemirror_mode": {
    "name": "ipython",
    "version": 3
   },
   "file_extension": ".py",
   "mimetype": "text/x-python",
   "name": "python",
   "nbconvert_exporter": "python",
   "pygments_lexer": "ipython3",
   "version": "3.9.16"
  }
 },
 "nbformat": 4,
 "nbformat_minor": 5
}
