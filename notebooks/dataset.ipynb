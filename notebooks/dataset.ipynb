{
 "cells": [
  {
   "cell_type": "code",
   "execution_count": 13,
   "id": "1cceb199-0fab-45b7-b0e3-8acab8fdd8e6",
   "metadata": {},
   "outputs": [],
   "source": [
    "import healpy as hp\n",
    "import numpy as np\n",
    "from matplotlib import pyplot as plt\n",
    "import h5py, os, sys\n",
    "from alive_progress import alive_it\n",
    "from time import sleep"
   ]
  },
  {
   "cell_type": "code",
   "execution_count": 10,
   "id": "c2448c22-5c3f-4f3f-bbd5-be17ef8f49b6",
   "metadata": {},
   "outputs": [],
   "source": [
    "instrument = \"stage3_forecast\"\n",
    "\n",
    "cosmogrid_dir = \"/global/cfs/cdirs/des/cosmogrid/\"\n",
    "\n",
    "fiducial_dir = os.path.join(cosmogrid_dir, instrument, \"fiducial\")\n",
    "benchmark_dir = os.path.join(cosmogrid_dir, instrument, \"benchmark\")\n",
    "grids_dir = os.path.join(cosmogrid_dir, instrument, \"grid\")\n",
    "fil_name = \"projected_probes_maps_baryonified512.h5\""
   ]
  },
  {
   "cell_type": "code",
   "execution_count": 113,
   "id": "60fba583-5de0-46c0-9415-22dfb46af484",
   "metadata": {},
   "outputs": [],
   "source": [
    "from pathlib import Path\n",
    "out_dir = '../data/20230419_24x24/'\n",
    "Path(out_dir).mkdir(parents=True, exist_ok=True)"
   ]
  },
  {
   "cell_type": "code",
   "execution_count": 115,
   "id": "683bca17-0f08-4025-acce-79087242d34c",
   "metadata": {},
   "outputs": [
    {
     "name": "stdout",
     "output_type": "stream",
     "text": [
      "(3145728,)\n",
      "12288\n",
      "2.748389129453925\n"
     ]
    },
    {
     "data": {
      "image/png": "[encoded data removed]",
      "text/plain": [
       "<Figure size 640x480 with 2 Axes>"
      ]
     },
     "metadata": {},
     "output_type": "display_data"
    },
    {
     "data": {
      "image/png": "[encoded data removed]",
      "text/plain": [
       "<Figure size 640x480 with 1 Axes>"
      ]
     },
     "metadata": {},
     "output_type": "display_data"
    }
   ],
   "source": [
    "def IndexToDeclRa(index, nside,nest= False):\n",
    "    theta,phi=hp.pixelfunc.pix2ang(nside ,index,nest=nest)\n",
    "    return -np.degrees(theta-np.pi/2.),np.degrees(phi)\n",
    "\n",
    "nside = 512\n",
    "nside_small = 32\n",
    "with h5py.File(os.path.join(\"/global/cfs/cdirs/des/cosmogrid/stage3_forecast/fiducial/cosmo_fiducial/\", perm, fil_name)) as fil:\n",
    "    map_test_ = np.array(fil['kg'][\"stage3_lensing1\"])\n",
    "    print(map_test_.shape)\n",
    "\n",
    "# use the center of the pixels at lower resolution as projection centers\n",
    "map_indexes = np.arange(hp.nside2npix(nside_small))\n",
    "dec_,ra_ = IndexToDeclRa(map_indexes, nside_small,nest= False)\n",
    "pairs_ = np.vstack([ra_,dec_])\n",
    "      \n",
    "# initial guess for the size of the patch\n",
    "# delta = np.sqrt(hp.nside2pixarea(nside_small, degrees = True))*2\n",
    "# pixels = int(delta/(hp.nside2resol(nside, arcmin=True)/60))\n",
    "res = hp.nside2resol(nside, arcmin=True)\n",
    "# xsize=2**int(np.log2(pixels))  \n",
    "xsize=24  \n",
    "print(pairs_.shape[1])\n",
    "\n",
    "print(24 * res / 60)\n",
    "\n",
    "for i in range(pairs_.shape[1]):\n",
    "    if i<1:\n",
    "        ra_,dec_ = pairs_[:,i]\n",
    "        m_projected = hp.gnomview(map_test_, rot=(ra_,dec_), xsize=xsize ,no_plot=True,reso=res,return_projected_map=True)\n",
    "        plt.imshow(np.log10(m_projected))\n",
    "        plt.colorbar()\n",
    "        plt.show()\n",
    "        plt.hist(np.ravel(np.log10(m_projected)), bins=50)\n",
    "        plt.show()\n",
    "    break"
   ]
  },
  {
   "cell_type": "code",
   "execution_count": 139,
   "id": "046e70b4-6b8f-4b4c-9e2a-29de52c0e6f8",
   "metadata": {},
   "outputs": [],
   "source": [
    "def gen_from_one_file(fil_name, nside=512, nside_crop=32, \\\n",
    "                      keys=[\"stage3_lensing\" + str(i) for i in range(1, 5)], out_shape=(24, 24, 4)):\n",
    "    kappas = {}\n",
    "    with h5py.File(fil_name) as fil:\n",
    "        for key in fil['kg'].keys():\n",
    "            kappas[key] = np.array(fil['kg'][key])\n",
    "    \n",
    "    map_indexes = np.arange(hp.nside2npix(nside_crop))\n",
    "    dec_,ra_ = IndexToDeclRa(map_indexes,nside_crop,nest=False)\n",
    "    pairs_ = np.vstack([ra_,dec_])\n",
    "    res = hp.nside2resol(nside, arcmin=True)\n",
    "    xsize=out_shape[0]\n",
    "    \n",
    "    out_arr = np.empty((pairs_.shape[1], *out_shape))\n",
    "    \n",
    "    for chan, key in enumerate(keys):\n",
    "        kappa = np.array(kappas[key])\n",
    "\n",
    "        for i in range(pairs_.shape[1])[:10]:\n",
    "            m_projected = hp.gnomview(kappa, rot=pairs_[:,i], xsize=xsize,\\\n",
    "                                      no_plot=True,reso=res,return_projected_map=True)\n",
    "            out_arr[i, :, :, chan] = m_projected\n",
    "    return out_arr"
   ]
  },
  {
   "cell_type": "code",
   "execution_count": 140,
   "id": "d131dbd9-fddf-4b3e-936b-dab0474e32d6",
   "metadata": {},
   "outputs": [
    {
     "name": "stdout",
     "output_type": "stream",
     "text": [
      "CPU times: user 4.75 s, sys: 2.91 s, total: 7.66 s\n",
      "Wall time: 4.11 s\n"
     ]
    }
   ],
   "source": [
    "%time out_arr = gen_from_one_file(os.path.join(\"/global/cfs/cdirs/des/cosmogrid/stage3_forecast/fiducial/cosmo_fiducial/\", perm, fil_name))"
   ]
  },
  {
   "cell_type": "code",
   "execution_count": null,
   "id": "c087cffd-bbbc-42f2-a28e-535fcb5d87d7",
   "metadata": {},
   "outputs": [
    {
     "name": "stdout",
     "output_type": "stream",
     "text": [
      "|                                        | ▄▆█ 0/5 [0%] in 12s (~0s, 0.0/s) "
     ]
    }
   ],
   "source": [
    "for grid in alive_it(os.listdir(grids_dir)[:5], force_tty=True, bar=\"checks\", spinner=\"notes\")):\n",
    "    path_grid = os.path.join(grids_dir, grid)\n",
    "    for perm in os.listdir(path_grid):\n",
    "        if \"perm\" not in perm:\n",
    "            continue\n",
    "        out_arr = gen_from_one_file(os.path.join(path_grid, perm, fil_name))\n",
    "        np.save(os.path.join(out_dir, grid), out_arr)\n",
    "    break"
   ]
  },
  {
   "cell_type": "code",
   "execution_count": 112,
   "id": "31f817ac-fd36-4329-a93c-3ef46cd03b1f",
   "metadata": {},
   "outputs": [
    {
     "data": {
      "text/plain": [
       "'../data/20230419_24x24/'"
      ]
     },
     "execution_count": 112,
     "metadata": {},
     "output_type": "execute_result"
    }
   ],
   "source": [
    "out_dir"
   ]
  },
  {
   "cell_type": "code",
   "execution_count": null,
   "id": "ff31990c-9b4a-48b4-b0d1-08f0bcf78085",
   "metadata": {},
   "outputs": [],
   "source": []
  }
 ],
 "metadata": {
  "kernelspec": {
   "display_name": "vit-jupyter",
   "language": "python",
   "name": "vit-jupyter"
  },
  "language_info": {
   "codemirror_mode": {
    "name": "ipython",
    "version": 3
   },
   "file_extension": ".py",
   "mimetype": "text/x-python",
   "name": "python",
   "nbconvert_exporter": "python",
   "pygments_lexer": "ipython3",
   "version": "3.9.16"
  }
 },
 "nbformat": 4,
 "nbformat_minor": 5
}
