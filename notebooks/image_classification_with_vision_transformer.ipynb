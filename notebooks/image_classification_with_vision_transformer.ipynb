{
 "cells": [
  {
   "cell_type": "markdown",
   "metadata": {
    "id": "_QlgHzTrvODC"
   },
   "source": [
    "## Setup"
   ]
  },
  {
   "cell_type": "code",
   "execution_count": 4,
   "metadata": {
    "id": "oFgj00W3vODD"
   },
   "outputs": [],
   "source": [
    "import numpy as np\n",
    "import tensorflow as tf\n",
    "from tensorflow import keras\n",
    "from tensorflow.keras import layers\n",
    "import tensorflow_addons as tfa\n",
    "from sklearn.preprocessing import StandardScaler, MinMaxScaler"
   ]
  },
  {
   "cell_type": "markdown",
   "metadata": {
    "id": "J0dfvHj5vODF"
   },
   "source": [
    "## Prepare the data"
   ]
  },
  {
   "cell_type": "code",
   "execution_count": 5,
   "metadata": {
    "id": "YQE3xplovODG"
   },
   "outputs": [
    {
     "name": "stdout",
     "output_type": "stream",
     "text": [
      "x_train shape: (80000, 66, 66, 1) - y_train shape: (80000, 5)\n",
      "x_test shape: (10000, 66, 66, 1) - y_test shape: (10000, 5)\n"
     ]
    }
   ],
   "source": [
    "input_shape = (66, 66, 1)\n",
    "\n",
    "# a = np.load(\"../data/6-parameter-maps/cosmo_params_all_collage_flask_6cosmo_n625_jr0_wSN0_jz3.npz.npy\", allow_pickle=True)\n",
    "b = np.load(\"../data/6-parameter-maps/X_maps_Cosmogrid_100k.npy\", allow_pickle=True)\n",
    "# b = np.load(\"../data/6-parameter-maps/maps_all_collage_flask_6cosmo_n625_jr0_wSN0_jz3.npz.npy\", allow_pickle=True)\n",
    "a = np.load(\"../data/6-parameter-maps/y_maps_Cosmogrid_100k.npy\", allow_pickle=True)\n",
    "\n",
    "num_samples = len(a)\n",
    "train_split, val_split, test_split = int(0.80*num_samples), \\\n",
    "            int(0.10*num_samples), int(0.10*num_samples) + 1\n",
    "\n",
    "train_x, val_x, test_x = np.split(b[:, :, :, None], [train_split, train_split+val_split])\n",
    "train_y, val_y, test_y = np.split(a, [train_split, train_split+val_split])\n",
    "\n",
    "output_num = 5\n",
    "\n",
    "train_y, val_y, test_y = train_y[:,:output_num], val_y[:,:output_num], test_y[:,:output_num]\n",
    "\n",
    "scaler = MinMaxScaler()\n",
    "scaler.fit(train_y)\n",
    "train_y, val_y, test_y = scaler.transform(train_y), scaler.transform(val_y), scaler.transform(test_y)\n",
    "\n",
    "print(f\"x_train shape: {train_x.shape} - y_train shape: {train_y.shape}\")\n",
    "print(f\"x_test shape: {test_x.shape} - y_test shape: {test_y.shape}\")\n"
   ]
  },
  {
   "cell_type": "markdown",
   "metadata": {
    "id": "hQaBczYivODH"
   },
   "source": [
    "## Configure the hyperparameters"
   ]
  },
  {
   "cell_type": "code",
   "execution_count": 6,
   "metadata": {
    "id": "vIykts9fvODI"
   },
   "outputs": [],
   "source": [
    "learning_rate = 0.001\n",
    "weight_decay = 0.0001\n",
    "batch_size = 128\n",
    "num_epochs = 20\n",
    "image_size = 66  # We'll resize input images to this size\n",
    "patch_size = 6  # Size of the patches to be extract from the input images\n",
    "num_patches = (image_size // patch_size) ** 2\n",
    "projection_dim = 128\n",
    "num_heads = 4\n",
    "transformer_units = [\n",
    "    projection_dim * 2,\n",
    "    projection_dim,\n",
    "]  # Size of the transformer layers\n",
    "transformer_layers = 8\n",
    "mlp_head_units = [2048, 1024]  # Size of the dense layers of the final classifier\n"
   ]
  },
  {
   "cell_type": "markdown",
   "metadata": {
    "id": "OowUhqaBvODJ"
   },
   "source": [
    "## Use data augmentation"
   ]
  },
  {
   "cell_type": "code",
   "execution_count": 7,
   "metadata": {
    "id": "vaq_aq1VvODK"
   },
   "outputs": [
    {
     "name": "stderr",
     "output_type": "stream",
     "text": [
      "2023-04-27 15:20:19.575649: W tensorflow/core/common_runtime/gpu/gpu_device.cc:1956] Cannot dlopen some GPU libraries. Please make sure the missing libraries mentioned above are installed properly if you would like to use GPU. Follow the guide at https://www.tensorflow.org/install/gpu for how to download and setup the required libraries for your platform.\n",
      "Skipping registering GPU devices...\n"
     ]
    }
   ],
   "source": [
    "data_augmentation = keras.Sequential(\n",
    "    [\n",
    "        layers.Normalization(),\n",
    "        # layers.Resizing(image_size, image_size),\n",
    "        layers.RandomFlip(\"horizontal\"),\n",
    "        layers.RandomFlip(\"vertical\"),\n",
    "        layers.RandomRotation(factor=0.02),\n",
    "        # layers.RandomZoom(\n",
    "        #     height_factor=0.2, width_factor=0.2\n",
    "        # ),\n",
    "    ],\n",
    "    name=\"data_augmentation\",\n",
    ")\n",
    "# Compute the mean and the variance of the training data for normalization.\n",
    "data_augmentation.layers[0].adapt(train_x)\n"
   ]
  },
  {
   "cell_type": "markdown",
   "metadata": {
    "id": "aBwSTzglvODL"
   },
   "source": [
    "## Implement multilayer perceptron (MLP)"
   ]
  },
  {
   "cell_type": "code",
   "execution_count": 8,
   "metadata": {
    "id": "pO0cdB3PvODL"
   },
   "outputs": [],
   "source": [
    "\n",
    "def mlp(x, hidden_units, dropout_rate):\n",
    "    for units in hidden_units:\n",
    "        x = layers.Dense(units, activation=tf.nn.gelu)(x)\n",
    "        x = layers.Dropout(dropout_rate)(x)\n",
    "    return x\n"
   ]
  },
  {
   "cell_type": "markdown",
   "metadata": {
    "id": "3JcuRRC0vODM"
   },
   "source": [
    "## Implement patch creation as a layer"
   ]
  },
  {
   "cell_type": "code",
   "execution_count": 9,
   "metadata": {
    "id": "osvcHOTZvODN"
   },
   "outputs": [],
   "source": [
    "\n",
    "class Patches(layers.Layer):\n",
    "    def __init__(self, patch_size):\n",
    "        super().__init__()\n",
    "        self.patch_size = patch_size\n",
    "\n",
    "    def call(self, images):\n",
    "        batch_size = tf.shape(images)[0]\n",
    "        patches = tf.image.extract_patches(\n",
    "            images=images,\n",
    "            sizes=[1, self.patch_size, self.patch_size, 1],\n",
    "            strides=[1, self.patch_size, self.patch_size, 1],\n",
    "            rates=[1, 1, 1, 1],\n",
    "            padding=\"VALID\",\n",
    "        )\n",
    "        patch_dims = patches.shape[-1]\n",
    "        patches = tf.reshape(patches, [batch_size, -1, patch_dims])\n",
    "        return patches\n"
   ]
  },
  {
   "cell_type": "markdown",
   "metadata": {
    "id": "8AZ0W6QlvODO"
   },
   "source": [
    "Let's display patches for a sample image"
   ]
  },
  {
   "cell_type": "code",
   "execution_count": 10,
   "metadata": {
    "id": "VgxC_UmkvODO"
   },
   "outputs": [
    {
     "name": "stdout",
     "output_type": "stream",
     "text": [
      "Image size: 66 X 66\n",
      "Patch size: 6 X 6\n",
      "Patches per image: 121\n",
      "Elements per patch: 36\n"
     ]
    },
    {
     "data": {
      "image/png": "[encoded data removed]",
      "text/plain": [
       "<Figure size 400x400 with 1 Axes>"
      ]
     },
     "metadata": {},
     "output_type": "display_data"
    },
    {
     "data": {
      "image/png": "[encoded data removed]",
      "text/plain": [
       "<Figure size 400x400 with 121 Axes>"
      ]
     },
     "metadata": {},
     "output_type": "display_data"
    }
   ],
   "source": [
    "import matplotlib.pyplot as plt\n",
    "\n",
    "plt.figure(figsize=(4, 4))\n",
    "image = train_x[np.random.choice(range(train_x.shape[0]))]\n",
    "plt.imshow(image)\n",
    "plt.axis(\"off\")\n",
    "\n",
    "resized_image = tf.image.resize(\n",
    "    tf.convert_to_tensor([image]), size=(image_size, image_size)\n",
    ")\n",
    "patches = Patches(patch_size)(resized_image)\n",
    "print(f\"Image size: {image_size} X {image_size}\")\n",
    "print(f\"Patch size: {patch_size} X {patch_size}\")\n",
    "print(f\"Patches per image: {patches.shape[1]}\")\n",
    "print(f\"Elements per patch: {patches.shape[-1]}\")\n",
    "\n",
    "n = int(np.sqrt(patches.shape[1]))\n",
    "plt.figure(figsize=(4, 4))\n",
    "for i, patch in enumerate(patches[0]):\n",
    "    ax = plt.subplot(n, n, i + 1)\n",
    "    patch_img = tf.reshape(patch, (patch_size, patch_size, 1))\n",
    "    plt.imshow(patch_img.numpy())\n",
    "    plt.axis(\"off\")"
   ]
  },
  {
   "cell_type": "markdown",
   "metadata": {
    "id": "BZggZtzlvODP"
   },
   "source": [
    "## Implement the patch encoding layer\n",
    "\n",
    "The `PatchEncoder` layer will linearly transform a patch by projecting it into a\n",
    "vector of size `projection_dim`. In addition, it adds a learnable position\n",
    "embedding to the projected vector."
   ]
  },
  {
   "cell_type": "code",
   "execution_count": 11,
   "metadata": {
    "id": "H9ov7TSLvODP"
   },
   "outputs": [],
   "source": [
    "\n",
    "class PatchEncoder(layers.Layer):\n",
    "    def __init__(self, num_patches, projection_dim):\n",
    "        super().__init__()\n",
    "        self.num_patches = num_patches\n",
    "        self.projection = layers.Dense(units=projection_dim)\n",
    "        self.position_embedding = layers.Embedding(\n",
    "            input_dim=num_patches, output_dim=projection_dim\n",
    "        )\n",
    "\n",
    "    def call(self, patch):\n",
    "        positions = tf.range(start=0, limit=self.num_patches, delta=1)\n",
    "        encoded = self.projection(patch) + self.position_embedding(positions)\n",
    "        return encoded\n"
   ]
  },
  {
   "cell_type": "markdown",
   "metadata": {
    "id": "uLyCb52ivODQ"
   },
   "source": [
    "## Build the ViT model\n",
    "\n",
    "The ViT model consists of multiple Transformer blocks,\n",
    "which use the `layers.MultiHeadAttention` layer as a self-attention mechanism\n",
    "applied to the sequence of patches. The Transformer blocks produce a\n",
    "`[batch_size, num_patches, projection_dim]` tensor, which is processed via an\n",
    "classifier head with softmax to produce the final class probabilities output.\n",
    "\n",
    "Unlike the technique described in the [paper](https://arxiv.org/abs/2010.11929),\n",
    "which prepends a learnable embedding to the sequence of encoded patches to serve\n",
    "as the image representation, all the outputs of the final Transformer block are\n",
    "reshaped with `layers.Flatten()` and used as the image\n",
    "representation input to the classifier head.\n",
    "Note that the `layers.GlobalAveragePooling1D` layer\n",
    "could also be used instead to aggregate the outputs of the Transformer block,\n",
    "especially when the number of patches and the projection dimensions are large."
   ]
  },
  {
   "cell_type": "code",
   "execution_count": 12,
   "metadata": {
    "id": "jdrCCtEdvODR"
   },
   "outputs": [],
   "source": [
    "tf.keras.backend.clear_session()\n",
    "\n",
    "def create_vit_classifier():\n",
    "    inputs = layers.Input(shape=input_shape)\n",
    "    # Augment data.\n",
    "    augmented = data_augmentation(inputs)\n",
    "    # Create patches.\n",
    "    patches = Patches(patch_size)(augmented)\n",
    "    # Encode patches.\n",
    "    encoded_patches = PatchEncoder(num_patches, projection_dim)(patches)\n",
    "\n",
    "    # Create multiple layers of the Transformer block.\n",
    "    for _ in range(transformer_layers):\n",
    "        # Layer normalization 1.\n",
    "        x1 = layers.LayerNormalization(epsilon=1e-6)(encoded_patches)\n",
    "        # Create a multi-head attention layer.\n",
    "        attention_output = layers.MultiHeadAttention(\n",
    "            num_heads=num_heads, key_dim=projection_dim, dropout=0.1\n",
    "        )(x1, x1)\n",
    "        # Skip connection 1.\n",
    "        x2 = layers.Add()([attention_output, encoded_patches])\n",
    "        # Layer normalization 2.\n",
    "        x3 = layers.LayerNormalization(epsilon=1e-6)(x2)\n",
    "        # MLP.\n",
    "        x3 = mlp(x3, hidden_units=transformer_units, dropout_rate=0.1)\n",
    "        # Skip connection 2.\n",
    "        encoded_patches = layers.Add()([x3, x2])\n",
    "\n",
    "    # Create a [batch_size, projection_dim] tensor.\n",
    "    representation = layers.LayerNormalization(epsilon=1e-6)(encoded_patches)\n",
    "    representation = layers.Flatten()(representation)\n",
    "    representation = layers.Dropout(0.5)(representation)\n",
    "    # Add MLP.\n",
    "    features = mlp(representation, hidden_units=mlp_head_units, dropout_rate=0.5)\n",
    "    # Classify outputs.\n",
    "    logits = layers.Dense(output_num, activation='linear')(features)\n",
    "    # Create the Keras model.\n",
    "    model = keras.Model(inputs=inputs, outputs=logits)\n",
    "    return model\n"
   ]
  },
  {
   "cell_type": "markdown",
   "metadata": {
    "id": "4z3qLAncvODR"
   },
   "source": [
    "## Compile, train, and evaluate the mode"
   ]
  },
  {
   "cell_type": "code",
   "execution_count": null,
   "metadata": {
    "id": "g7cqbu7lvODS"
   },
   "outputs": [
    {
     "name": "stdout",
     "output_type": "stream",
     "text": [
      "Epoch 1/20\n",
      " 74/625 [==>...........................] - ETA: 30:55 - loss: 6.9796 - mean_absolute_error: 0.9127 - log_cosh: 0.5792"
     ]
    }
   ],
   "source": [
    "\n",
    "def run_experiment(model):\n",
    "    optimizer = tfa.optimizers.AdamW(\n",
    "        learning_rate=learning_rate, weight_decay=weight_decay\n",
    "    )\n",
    "\n",
    "    model.compile(\n",
    "        optimizer=optimizer,\n",
    "        loss=keras.losses.MeanSquaredError(),\n",
    "        metrics=[\n",
    "            keras.losses.MeanAbsoluteError(),\n",
    "            keras.losses.LogCosh(),\n",
    "        ],\n",
    "    )\n",
    "\n",
    "    checkpoint_filepath = \"/tmp/checkpoint\"\n",
    "    checkpoint_callback = keras.callbacks.ModelCheckpoint(\n",
    "        checkpoint_filepath,\n",
    "        monitor=\"val_accuracy\",\n",
    "        save_best_only=True,\n",
    "        save_weights_only=True,\n",
    "    )\n",
    "\n",
    "    history = model.fit(\n",
    "        x=train_x,\n",
    "        y=train_y,\n",
    "        batch_size=batch_size,\n",
    "        epochs=num_epochs,\n",
    "        shuffle=True,\n",
    "        validation_data=(val_x, val_y),\n",
    "        callbacks=[checkpoint_callback],\n",
    "    )\n",
    "\n",
    "    model.load_weights(checkpoint_filepath)\n",
    "    print(model.evaluate(x_test, y_test))\n",
    "\n",
    "    return history\n",
    "\n",
    "\n",
    "vit_classifier = create_vit_classifier()\n",
    "history = run_experiment(vit_classifier)\n"
   ]
  },
  {
   "cell_type": "code",
   "execution_count": null,
   "metadata": {},
   "outputs": [],
   "source": [
    "model = vit_classifier\n",
    "\n",
    "plot_x, plot_y = train_x, scaler_y.inverse_transform(train_y)\n",
    "predictions = scaler_y.inverse_transform(model.predict(plot_x))\n",
    "\n",
    "plot_x, plot_y = train_x, train_y\n",
    "predictions = model.predict(plot_x)\n",
    "\n",
    "upp_lims = np.nanmax(plot_y, axis=0)\n",
    "low_lims = np.nanmin(plot_y, axis=0)\n",
    "fig, axs = plt.subplots(nrows=2, ncols=3, figsize=(10, 7))\n",
    "fig.subplots_adjust(wspace=0.3, hspace=0.2)\n",
    "labels = [r\"$\\Omega_m$\", r\"$H_0$\", r\"$n_s$\", r\"$\\sigma_8$\", r\"$w_0$\", r\"$$\"]\n",
    "for ind, (label, ax, low_lim, upp_lim) in enumerate(zip(labels, axs.ravel(), low_lims, upp_lims)):\n",
    "    p = np.poly1d(np.polyfit(plot_y[:, ind], predictions[:, ind], 1))\n",
    "    ax.scatter(plot_y[:, ind], predictions[:, ind], marker=\"x\", alpha=0.1)\n",
    "    ax.set_xlabel(\"true\")\n",
    "    ax.set_ylabel(\"prediction\")\n",
    "    ax.plot([low_lim, upp_lim], [low_lim, upp_lim], color=\"black\")\n",
    "    ax.plot([low_lim, upp_lim], [p(low_lim), p(upp_lim)], color=\"black\", ls=\":\")\n",
    "    ax.set_xlim([low_lim, upp_lim])\n",
    "    ax.set_ylim([low_lim, upp_lim])\n",
    "    ax.set_aspect('equal', adjustable='box')\n",
    "    ax.set_title(label)\n",
    "    ax.grid()\n",
    "plt.show()\n",
    "plt.close()\n",
    "    \n",
    "plot_x, plot_y = val_x, scaler_y.inverse_transform(val_y)\n",
    "predictions = scaler_y.inverse_transform(model.predict(plot_x))\n",
    "\n",
    "predictions = model.predict(plot_x)\n",
    "upp_lims = np.nanmax(plot_y, axis=0)\n",
    "low_lims = np.nanmin(plot_y, axis=0)\n",
    "fig, axs = plt.subplots(nrows=2, ncols=3, figsize=(10, 7))\n",
    "fig.subplots_adjust(wspace=0.3, hspace=0.2)\n",
    "for ind, (label, ax, low_lim, upp_lim) in enumerate(zip(labels, axs.ravel(), low_lims, upp_lims)):\n",
    "    p = np.poly1d(np.polyfit(plot_y[:, ind], predictions[:, ind], 1))\n",
    "    ax.scatter(plot_y[:, ind], predictions[:, ind], marker=\"x\", alpha=0.1)\n",
    "    ax.set_xlabel(\"true\")\n",
    "    ax.set_ylabel(\"prediction\")\n",
    "    ax.plot([low_lim, upp_lim], [low_lim, upp_lim], color=\"black\")\n",
    "    ax.plot([low_lim, upp_lim], [p(low_lim), p(upp_lim)], color=\"black\", ls=\":\")\n",
    "    ax.set_xlim([low_lim, upp_lim])\n",
    "    ax.set_ylim([low_lim, upp_lim])\n",
    "    ax.set_aspect('equal', adjustable='box')\n",
    "    ax.set_title(label)\n",
    "    ax.grid()\n",
    "plt.show()\n",
    "plt.close()"
   ]
  },
  {
   "cell_type": "code",
   "execution_count": 13,
   "metadata": {},
   "outputs": [
    {
     "name": "stdout",
     "output_type": "stream",
     "text": [
      "import numpy as np\n",
      "import tensorflow as tf\n",
      "from tensorflow import keras\n",
      "from tensorflow.keras import layers\n",
      "import tensorflow_addons as tfa\n",
      "input_shape = (66, 66, 1)\n",
      "\n",
      "# a = np.load(\"../data/6-parameter-maps/cosmo_params_all_collage_flask_6cosmo_n625_jr0_wSN0_jz3.npz.npy\", allow_pickle=True)\n",
      "b = np.load(\"../data/6-parameter-maps/X_maps_Cosmogrid_100k.npy\", allow_pickle=True)\n",
      "# b = np.load(\"../data/6-parameter-maps/maps_all_collage_flask_6cosmo_n625_jr0_wSN0_jz3.npz.npy\", allow_pickle=True)\n",
      "a = np.load(\"../data/6-parameter-maps/y_maps_Cosmogrid_100k.npy\", allow_pickle=True)\n",
      "\n",
      "num_samples = len(a)\n",
      "train_split, val_split, test_split = int(0.80*num_samples), \\\n",
      "            int(0.10*num_samples), int(0.10*num_samples) + 1\n",
      "\n",
      "train_x, val_x, test_x = np.split(b[:, :, :, None], [train_split, train_split+val_split])\n",
      "train_y, val_y, test_y = np.split(a, [train_split, train_split+val_split])\n",
      "\n",
      "output_num = 5\n",
      "\n",
      "train_y, val_y, test_y = train_y[:,:output_num], val_y[:,:output_num], test_y[:,:output_num]\n",
      "\n",
      "print(f\"x_train shape: {train_x.shape} - y_train shape: {train_y.shape}\")\n",
      "print(f\"x_test shape: {test_x.shape} - y_test shape: {test_y.shape}\")\n",
      "learning_rate = 0.001\n",
      "weight_decay = 0.0001\n",
      "batch_size = 256\n",
      "num_epochs = 100\n",
      "image_size = 66  # We'll resize input images to this size\n",
      "patch_size = 6  # Size of the patches to be extract from the input images\n",
      "num_patches = (image_size // patch_size) ** 2\n",
      "projection_dim = 64\n",
      "num_heads = 4\n",
      "transformer_units = [\n",
      "    projection_dim * 2,\n",
      "    projection_dim,\n",
      "]  # Size of the transformer layers\n",
      "transformer_layers = 8\n",
      "mlp_head_units = [2048, 1024]  # Size of the dense layers of the final classifier\n",
      "data_augmentation = keras.Sequential(\n",
      "    [\n",
      "        layers.Normalization(),\n",
      "        # layers.Resizing(image_size, image_size),\n",
      "        layers.RandomFlip(\"horizontal\"),\n",
      "        layers.RandomFlip(\"vertical\"),\n",
      "        # layers.RandomRotation(factor=0.02),\n",
      "        # layers.RandomZoom(\n",
      "        #     height_factor=0.2, width_factor=0.2\n",
      "        # ),\n",
      "    ],\n",
      "    name=\"data_augmentation\",\n",
      ")\n",
      "# Compute the mean and the variance of the training data for normalization.\n",
      "data_augmentation.layers[0].adapt(train_x)\n",
      "\n",
      "def mlp(x, hidden_units, dropout_rate):\n",
      "    for units in hidden_units:\n",
      "        x = layers.Dense(units, activation=tf.nn.gelu)(x)\n",
      "        x = layers.Dropout(dropout_rate)(x)\n",
      "    return x\n",
      "\n",
      "class Patches(layers.Layer):\n",
      "    def __init__(self, patch_size):\n",
      "        super().__init__()\n",
      "        self.patch_size = patch_size\n",
      "\n",
      "    def call(self, images):\n",
      "        batch_size = tf.shape(images)[0]\n",
      "        patches = tf.image.extract_patches(\n",
      "            images=images,\n",
      "            sizes=[1, self.patch_size, self.patch_size, 1],\n",
      "            strides=[1, self.patch_size, self.patch_size, 1],\n",
      "            rates=[1, 1, 1, 1],\n",
      "            padding=\"VALID\",\n",
      "        )\n",
      "        patch_dims = patches.shape[-1]\n",
      "        patches = tf.reshape(patches, [batch_size, -1, patch_dims])\n",
      "        return patches\n",
      "import matplotlib.pyplot as plt\n",
      "\n",
      "plt.figure(figsize=(4, 4))\n",
      "image = train_x[np.random.choice(range(train_x.shape[0]))]\n",
      "plt.imshow(image)\n",
      "plt.axis(\"off\")\n",
      "\n",
      "resized_image = tf.image.resize(\n",
      "    tf.convert_to_tensor([image]), size=(image_size, image_size)\n",
      ")\n",
      "patches = Patches(patch_size)(resized_image)\n",
      "print(f\"Image size: {image_size} X {image_size}\")\n",
      "print(f\"Patch size: {patch_size} X {patch_size}\")\n",
      "print(f\"Patches per image: {patches.shape[1]}\")\n",
      "print(f\"Elements per patch: {patches.shape[-1]}\")\n",
      "\n",
      "n = int(np.sqrt(patches.shape[1]))\n",
      "plt.figure(figsize=(4, 4))\n",
      "for i, patch in enumerate(patches[0]):\n",
      "    ax = plt.subplot(n, n, i + 1)\n",
      "    patch_img = tf.reshape(patch, (patch_size, patch_size, 1))\n",
      "    plt.imshow(patch_img.numpy())\n",
      "    plt.axis(\"off\")\n",
      "\n",
      "class PatchEncoder(layers.Layer):\n",
      "    def __init__(self, num_patches, projection_dim):\n",
      "        super().__init__()\n",
      "        self.num_patches = num_patches\n",
      "        self.projection = layers.Dense(units=projection_dim)\n",
      "        self.position_embedding = layers.Embedding(\n",
      "            input_dim=num_patches, output_dim=projection_dim\n",
      "        )\n",
      "\n",
      "    def call(self, patch):\n",
      "        positions = tf.range(start=0, limit=self.num_patches, delta=1)\n",
      "        encoded = self.projection(patch) + self.position_embedding(positions)\n",
      "        return encoded\n",
      "\n",
      "def create_vit_classifier():\n",
      "    inputs = layers.Input(shape=input_shape)\n",
      "    # Augment data.\n",
      "    augmented = data_augmentation(inputs)\n",
      "    # Create patches.\n",
      "    patches = Patches(patch_size)(augmented)\n",
      "    # Encode patches.\n",
      "    encoded_patches = PatchEncoder(num_patches, projection_dim)(patches)\n",
      "\n",
      "    # Create multiple layers of the Transformer block.\n",
      "    for _ in range(transformer_layers):\n",
      "        # Layer normalization 1.\n",
      "        x1 = layers.LayerNormalization(epsilon=1e-6)(encoded_patches)\n",
      "        # Create a multi-head attention layer.\n",
      "        attention_output = layers.MultiHeadAttention(\n",
      "            num_heads=num_heads, key_dim=projection_dim, dropout=0.1\n",
      "        )(x1, x1)\n",
      "        # Skip connection 1.\n",
      "        x2 = layers.Add()([attention_output, encoded_patches])\n",
      "        # Layer normalization 2.\n",
      "        x3 = layers.LayerNormalization(epsilon=1e-6)(x2)\n",
      "        # MLP.\n",
      "        x3 = mlp(x3, hidden_units=transformer_units, dropout_rate=0.1)\n",
      "        # Skip connection 2.\n",
      "        encoded_patches = layers.Add()([x3, x2])\n",
      "\n",
      "    # Create a [batch_size, projection_dim] tensor.\n",
      "    representation = layers.LayerNormalization(epsilon=1e-6)(encoded_patches)\n",
      "    representation = layers.Flatten()(representation)\n",
      "    representation = layers.Dropout(0.5)(representation)\n",
      "    # Add MLP.\n",
      "    features = mlp(representation, hidden_units=mlp_head_units, dropout_rate=0.5)\n",
      "    # Classify outputs.\n",
      "    logits = layers.Dense(output_num)(features)\n",
      "    # Create the Keras model.\n",
      "    model = keras.Model(inputs=inputs, outputs=logits)\n",
      "    return model\n",
      "\n",
      "def run_experiment(model):\n",
      "    optimizer = tfa.optimizers.AdamW(\n",
      "        learning_rate=learning_rate, weight_decay=weight_decay\n",
      "    )\n",
      "\n",
      "    model.compile(\n",
      "        optimizer=optimizer,\n",
      "        loss=keras.losses.MeanSquaredError(),\n",
      "        metrics=[\n",
      "            keras.losses.MeanAbsoluteError(),\n",
      "            keras.losses.LogCosh(),\n",
      "        ],\n",
      "    )\n",
      "\n",
      "    checkpoint_filepath = \"/tmp/checkpoint\"\n",
      "    checkpoint_callback = keras.callbacks.ModelCheckpoint(\n",
      "        checkpoint_filepath,\n",
      "        monitor=\"val_accuracy\",\n",
      "        save_best_only=True,\n",
      "        save_weights_only=True,\n",
      "    )\n",
      "\n",
      "    history = model.fit(\n",
      "        x=train_x,\n",
      "        y=train_y,\n",
      "        batch_size=batch_size,\n",
      "        epochs=num_epochs,\n",
      "        validation_split=0.1,\n",
      "        callbacks=[checkpoint_callback],\n",
      "    )\n",
      "\n",
      "    model.load_weights(checkpoint_filepath)\n",
      "    print(model.evaluate(x_test, y_test))\n",
      "\n",
      "    return history\n",
      "\n",
      "\n",
      "vit_classifier = create_vit_classifier()\n",
      "history = run_experiment(vit_classifier)\n",
      "model = vit_classifier\n",
      "\n",
      "# plot_x, plot_y = train_x, scaler_y.inverse_transform(train_y)\n",
      "# predictions = scaler_y.inverse_transform(model.predict(plot_x))\n",
      "\n",
      "plot_x, plot_y = train_x, train_y\n",
      "predictions = model.predict(plot_x)\n",
      "\n",
      "upp_lims = np.nanmax(plot_y, axis=0)\n",
      "low_lims = np.nanmin(plot_y, axis=0)\n",
      "fig, axs = plt.subplots(nrows=2, ncols=3, figsize=(10, 7))\n",
      "fig.subplots_adjust(wspace=0.3, hspace=0.2)\n",
      "labels = [r\"$\\Omega_m$\", r\"$H_0$\", r\"$n_s$\", r\"$\\sigma_8$\", r\"$w_0$\", r\"$$\"]\n",
      "for ind, (label, ax, low_lim, upp_lim) in enumerate(zip(labels, axs.ravel(), low_lims, upp_lims)):\n",
      "    p = np.poly1d(np.polyfit(plot_y[:, ind], predictions[:, ind], 1))\n",
      "    ax.scatter(plot_y[:, ind], predictions[:, ind], marker=\"x\", alpha=0.1)\n",
      "    ax.set_xlabel(\"true\")\n",
      "    ax.set_ylabel(\"prediction\")\n",
      "    ax.plot([low_lim, upp_lim], [low_lim, upp_lim], color=\"black\")\n",
      "    ax.plot([low_lim, upp_lim], [p(low_lim), p(upp_lim)], color=\"black\", ls=\":\")\n",
      "    ax.set_xlim([low_lim, upp_lim])\n",
      "    ax.set_ylim([low_lim, upp_lim])\n",
      "    ax.set_aspect('equal', adjustable='box')\n",
      "    ax.set_title(label)\n",
      "    ax.grid()\n",
      "plt.show()\n",
      "plt.close()\n",
      "    \n",
      "plot_x, plot_y = val_x, val_y\n",
      "predictions = model.predict(plot_x)\n",
      "upp_lims = np.nanmax(plot_y, axis=0)\n",
      "low_lims = np.nanmin(plot_y, axis=0)\n",
      "fig, axs = plt.subplots(nrows=2, ncols=3, figsize=(10, 7))\n",
      "fig.subplots_adjust(wspace=0.3, hspace=0.2)\n",
      "for ind, (label, ax, low_lim, upp_lim) in enumerate(zip(labels, axs.ravel(), low_lims, upp_lims)):\n",
      "    p = np.poly1d(np.polyfit(plot_y[:, ind], predictions[:, ind], 1))\n",
      "    ax.scatter(plot_y[:, ind], predictions[:, ind], marker=\"x\", alpha=0.1)\n",
      "    ax.set_xlabel(\"true\")\n",
      "    ax.set_ylabel(\"prediction\")\n",
      "    ax.plot([low_lim, upp_lim], [low_lim, upp_lim], color=\"black\")\n",
      "    ax.plot([low_lim, upp_lim], [p(low_lim), p(upp_lim)], color=\"black\", ls=\":\")\n",
      "    ax.set_xlim([low_lim, upp_lim])\n",
      "    ax.set_ylim([low_lim, upp_lim])\n",
      "    ax.set_aspect('equal', adjustable='box')\n",
      "    ax.set_title(label)\n",
      "    ax.grid()\n",
      "plt.show()\n",
      "plt.close()\n",
      "history\n",
      "history\n"
     ]
    }
   ],
   "source": [
    "history"
   ]
  },
  {
   "cell_type": "code",
   "execution_count": null,
   "metadata": {},
   "outputs": [],
   "source": []
  }
 ],
 "metadata": {
  "accelerator": "GPU",
  "colab": {
   "name": "image_classification_with_vision_transformer",
   "provenance": []
  },
  "environment": {
   "name": "tf2-gpu.2-4.m61",
   "type": "gcloud",
   "uri": "gcr.io/deeplearning-platform-release/tf2-gpu.2-4:m61"
  },
  "kernelspec": {
   "display_name": "vit-jupyter",
   "language": "python",
   "name": "vit-jupyter"
  },
  "language_info": {
   "codemirror_mode": {
    "name": "ipython",
    "version": 3
   },
   "file_extension": ".py",
   "mimetype": "text/x-python",
   "name": "python",
   "nbconvert_exporter": "python",
   "pygments_lexer": "ipython3",
   "version": "3.9.16"
  }
 },
 "nbformat": 4,
 "nbformat_minor": 4
}
